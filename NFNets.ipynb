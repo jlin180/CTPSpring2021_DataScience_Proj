{
 "cells": [
  {
   "cell_type": "code",
   "execution_count": 2,
   "metadata": {
    "id": "Sf-u6OYykCez"
   },
   "outputs": [
    {
     "name": "stdout",
     "output_type": "stream",
     "text": [
      "Requirement already satisfied: dill in /usr/local/lib/python3.9/site-packages (0.3.3)\n",
      "\u001b[33mWARNING: You are using pip version 21.0.1; however, version 21.1.2 is available.\n",
      "You should consider upgrading via the '/usr/local/opt/python@3.9/bin/python3.9 -m pip install --upgrade pip' command.\u001b[0m\n",
      "Note: you may need to restart the kernel to use updated packages.\n"
     ]
    }
   ],
   "source": [
    "pip install dill"
   ]
  },
  {
   "cell_type": "markdown",
   "metadata": {},
   "source": [
    "### What are NF Nets?\n",
    "NF Nets: Normalizer Free Neural Networks"
   ]
  },
  {
   "cell_type": "code",
   "execution_count": 4,
   "metadata": {},
   "outputs": [
    {
     "name": "stdout",
     "output_type": "stream",
     "text": [
      "/Users/meriselleruotolo/workspace/CTPSpring2021_DataScience_Proj/nfnets_pytorch\n"
     ]
    }
   ],
   "source": [
    "%cd ./nfnets_pytorch\n"
   ]
  },
  {
   "cell_type": "code",
   "execution_count": 5,
   "metadata": {},
   "outputs": [],
   "source": [
    "# imports\n",
    "import argparse\n",
    "import math\n",
    "import PIL\n",
    "import time\n",
    "import yaml\n",
    "import numpy as np\n",
    "import random\n",
    "import copy\n",
    "\n",
    "from pathlib import Path\n",
    "from PIL.Image import Image\n",
    "import matplotlib.pyplot as plt\n",
    "from matplotlib.pyplot import imshow\n",
    "\n",
    "import torch.cuda.amp as amp\n",
    "import torch.nn as nn\n",
    "import torch.nn.functional as F\n",
    "import torch.optim as optim\n",
    "from torch.optim import lr_scheduler\n",
    "from torch.utils.data import DataLoader\n",
    "from torch.utils.data import Subset\n",
    "from torch.utils.tensorboard import SummaryWriter\n",
    "\n",
    "import torchvision\n",
    "from torchvision import datasets\n",
    "from torchvision import transforms\n",
    "\n",
    "from nfnets import NFNet, SGD_AGC, pretrained_nfnet\n",
    "\n",
    "from sklearn.model_selection import train_test_split\n"
   ]
  },
  {
   "cell_type": "code",
   "execution_count": 6,
   "metadata": {},
   "outputs": [],
   "source": [
    "import torch\n",
    "if torch.cuda.is_available():\n",
    "    torch.backends.cudnn.deterministic = True\n",
    "\n",
    "    # need to do in terminal later:\n",
    "    # !git clone https://github.com/benjs/nfnets_pytorch\n",
    "    # also check folder names"
   ]
  },
  {
   "cell_type": "code",
   "execution_count": 7,
   "metadata": {},
   "outputs": [],
   "source": [
    "batch_size = 64\n",
    "\n",
    "data_path = '../fruits-360/Training/'\n",
    "\n",
    "fruit_datasets = datasets.ImageFolder(\n",
    "    data_path,\n",
    "    transforms.Compose([\n",
    "        transforms.Resize((192,192)),\n",
    "        transforms.ToTensor(),\n",
    "        transforms.Normalize(mean=[0.485, 0.456, 0.406],\n",
    "    std = [0.229, 0.224, 0.225]),\n",
    "    ])\n",
    ")"
   ]
  },
  {
   "cell_type": "code",
   "execution_count": 8,
   "metadata": {},
   "outputs": [
    {
     "data": {
      "text/plain": [
       "(tensor([[[2.2318, 2.2318, 2.2318,  ..., 2.2489, 2.2489, 2.2489],\n",
       "          [2.2318, 2.2318, 2.2318,  ..., 2.2489, 2.2489, 2.2489],\n",
       "          [2.2318, 2.2318, 2.2318,  ..., 2.2489, 2.2489, 2.2489],\n",
       "          ...,\n",
       "          [2.2489, 2.2489, 2.2489,  ..., 2.2489, 2.2489, 2.2489],\n",
       "          [2.2489, 2.2489, 2.2489,  ..., 2.2489, 2.2489, 2.2489],\n",
       "          [2.2489, 2.2489, 2.2489,  ..., 2.2489, 2.2489, 2.2489]],\n",
       " \n",
       "         [[2.4286, 2.4286, 2.4286,  ..., 2.4286, 2.4286, 2.4286],\n",
       "          [2.4286, 2.4286, 2.4286,  ..., 2.4286, 2.4286, 2.4286],\n",
       "          [2.4286, 2.4286, 2.4286,  ..., 2.4286, 2.4286, 2.4286],\n",
       "          ...,\n",
       "          [2.4286, 2.4286, 2.4286,  ..., 2.4286, 2.4286, 2.4286],\n",
       "          [2.4286, 2.4286, 2.4286,  ..., 2.4286, 2.4286, 2.4286],\n",
       "          [2.4286, 2.4286, 2.4286,  ..., 2.4286, 2.4286, 2.4286]],\n",
       " \n",
       "         [[2.6400, 2.6400, 2.6400,  ..., 2.6400, 2.6400, 2.6400],\n",
       "          [2.6400, 2.6400, 2.6400,  ..., 2.6400, 2.6400, 2.6400],\n",
       "          [2.6400, 2.6400, 2.6400,  ..., 2.6400, 2.6400, 2.6400],\n",
       "          ...,\n",
       "          [2.6400, 2.6400, 2.6400,  ..., 2.6400, 2.6400, 2.6400],\n",
       "          [2.6400, 2.6400, 2.6400,  ..., 2.6400, 2.6400, 2.6400],\n",
       "          [2.6400, 2.6400, 2.6400,  ..., 2.6400, 2.6400, 2.6400]]]),\n",
       " 0)"
      ]
     },
     "execution_count": 8,
     "metadata": {},
     "output_type": "execute_result"
    }
   ],
   "source": [
    "fruit_datasets[0]"
   ]
  },
  {
   "cell_type": "code",
   "execution_count": 9,
   "metadata": {},
   "outputs": [],
   "source": [
    "random_seed = 33\n",
    "random.seed(random_seed)\n",
    "torch.manual_seed(random_seed)\n",
    "\n",
    "dataset = {}\n",
    "\n",
    "train_idx, valtest_idx = train_test_split(list(range(len(fruit_datasets))), \n",
    "                                          test_size=0.4, \n",
    "                                          random_state=random_seed)\n",
    "\n",
    "dataset['train'] = Subset(fruit_datasets, train_idx)\n",
    "valtest          = Subset(fruit_datasets, valtest_idx)\n",
    "\n",
    "val_ds, test_ds = train_test_split(list(range(len(valtest))),\n",
    "                                  test_size = 0.5,\n",
    "                                  random_state = random_seed)\n",
    "\n",
    "dataset['valid'] = Subset(valtest, val_ds)\n",
    "dataset['test'] = Subset(valtest, test_ds)\n",
    "        \n",
    "max_trn_corrects = len(dataset['train'])\n",
    "max_val_corrects = len(dataset['valid'])\n"
   ]
  },
  {
   "cell_type": "code",
   "execution_count": 10,
   "metadata": {},
   "outputs": [
    {
     "name": "stdout",
     "output_type": "stream",
     "text": [
      "batch_size : 64\n",
      "train/valid/test : 635/212/212\n"
     ]
    }
   ],
   "source": [
    "dataloaders, batch_num = {}, {}\n",
    "\n",
    "dataloaders['train'] = DataLoader(dataset['train'],\n",
    "                                 batch_size = batch_size,\n",
    "                                 shuffle = True,\n",
    "                                 num_workers = 8)\n",
    "dataloaders['valid'] = DataLoader(dataset['valid'],\n",
    "                                 batch_size = batch_size, \n",
    "                                 shuffle = True,\n",
    "                                 num_workers = 8)\n",
    "dataloaders['test'] = DataLoader(dataset['test'],\n",
    "                                batch_size = batch_size,\n",
    "                                shuffle=True,\n",
    "                                num_workers = 8)\n",
    "\n",
    "batch_num['train'], batch_num['valid'], batch_num['test'] = len(dataloaders['train']), len(dataloaders['valid']), len(dataloaders['test'])\n",
    "\n",
    "print('batch_size : {}\\ntrain/valid/test : {}/{}/{}'\n",
    "     .format(batch_size,\n",
    "            batch_num['train'],\n",
    "            batch_num['valid'], \n",
    "            batch_num['test']))"
   ]
  },
  {
   "cell_type": "code",
   "execution_count": 11,
   "metadata": {},
   "outputs": [
    {
     "name": "stdout",
     "output_type": "stream",
     "text": [
      "torch.Size([3, 192, 192])\n"
     ]
    },
    {
     "name": "stderr",
     "output_type": "stream",
     "text": [
      "Clipping input data to the valid range for imshow with RGB data ([0..1] for floats or [0..255] for integers).\n"
     ]
    },
    {
     "data": {
      "text/plain": [
       "<matplotlib.image.AxesImage at 0x144a75f10>"
      ]
     },
     "execution_count": 11,
     "metadata": {},
     "output_type": "execute_result"
    },
    {
     "data": {
      "image/png": "[encoded data removed]",
      "text/plain": [
       "<Figure size 432x288 with 1 Axes>"
      ]
     },
     "metadata": {
      "needs_background": "light"
     },
     "output_type": "display_data"
    }
   ],
   "source": [
    "imgtest = None\n",
    "for images, labels in dataloaders['train']:\n",
    "    imgtest = images[3]\n",
    "    print(imgtest.shape)\n",
    "    break\n",
    "    \n",
    "imgtest = imgtest.numpy()\n",
    "imgtest = np.moveaxis(imgtest, 0, -1)\n",
    "imshow(imgtest)"
   ]
  },
  {
   "cell_type": "code",
   "execution_count": 12,
   "metadata": {},
   "outputs": [],
   "source": [
    "model = NFNet(\n",
    "            num_classes=1000,\n",
    "            variant ='F0',\n",
    "            stochdepth_rate =0.25,\n",
    "            alpha=0.2,\n",
    "            se_ratio=0.5,\n",
    "            activation = 'gelu'\n",
    ")\n",
    "\n",
    "optimizer = SGD_AGC(\n",
    "    named_params=model.named_parameters(),\n",
    "    lr=0.1,\n",
    "    momentum=0.9,\n",
    "    clipping=0.1,\n",
    "    weight_decay = 0.0002,\n",
    "    nesterov =True)\n",
    "\n",
    "criterion = nn.CrossEntropyLoss()\n",
    "\n",
    "#dev = torch.device(\"cuda\") # double check ??????\n",
    "#model.to(dev)\n"
   ]
  },
  {
   "cell_type": "code",
   "execution_count": 13,
   "metadata": {},
   "outputs": [],
   "source": [
    "for params in optimizer.param_groups:\n",
    "    name = params['name']\n",
    "    \n",
    "    if model.exclude_from_weight_decay(name):\n",
    "        params['weight_decay'] = 0\n",
    "    if model.exclude_from_clipping(name):\n",
    "        params['clipping'] = None"
   ]
  },
  {
   "cell_type": "code",
   "execution_count": 15,
   "metadata": {},
   "outputs": [],
   "source": [
    "since = time.time()\n",
    "num_epochs = 15\n",
    "trn_loss_list, val_loss_list, trn_acc_list, val_acc_list = [], [], [], []\n",
    "best_acc = 0.0\n",
    "\n",
    "best_model = copy.deepcopy(model.state_dict())\n"
   ]
  },
  {
   "cell_type": "code",
   "execution_count": null,
   "metadata": {},
   "outputs": [],
   "source": [
    "for epoch in range(num_epochs):    \n",
    "    trn_loss, trn_corrects, val_loss, val_corrects = 0.0, 0, 0.0, 0\n",
    "    \n",
    "    # train stage\n",
    "    model.train()\n",
    "    for i, (data, target) in enumerate(dataloaders['train']):\n",
    "       # data, target = data.to(dev), target.to(dev)                 # to devv\n",
    "\n",
    "        optimizer.zero_grad()\n",
    "        output = model(data)                \n",
    "    \n",
    "        loss = criterion(output, target)\n",
    "        loss.backward()\n",
    "        \n",
    "        optimizer.step()  \n",
    "        \n",
    "        _, preds = torch.max(output, 1)\n",
    "        trn_corrects += torch.sum(preds == target.data)\n",
    "        trn_loss += loss.item()\n",
    "\n",
    "    # evaluation stage\n",
    "    model.eval()\n",
    "    with torch.no_grad():\n",
    "        for j, (val_data, val_target) in enumerate(dataloaders['valid']):\n",
    "            #val_data, val_target = val_data.to(dev), val_target.to(dev)            #dev\n",
    "            \n",
    "            val_output = model(val_data)\n",
    "            v_loss = criterion(val_output, val_target)\n",
    "            \n",
    "            _, preds = torch.max(val_output, 1)\n",
    "            val_corrects += torch.sum(preds == val_target.data)\n",
    "            val_loss += v_loss.item()\n",
    "\n",
    "\n",
    "    # saving train & validation accuracy\n",
    "    trn_acc_list.append(trn_corrects / max_trn_corrects * 100)\n",
    "    val_acc_list.append(val_corrects / max_val_corrects * 100)\n",
    "    \n",
    "    # saving train & validation loss\n",
    "    trn_loss_list.append(trn_loss/batch_num['train'])\n",
    "    val_loss_list.append(val_loss/batch_num['valid'])\n",
    "\n",
    "    time_elapsed = time.time() - since\n",
    "    print(\"epoch: {}/{} | trn loss: {:.4f} | val loss: {:.4f} | {:.0f}m {:.0f}s elapsed\"\n",
    "          .format(epoch+1, num_epochs, \n",
    "                  trn_loss / batch_num['train'], \n",
    "                  val_loss / batch_num['valid'], \n",
    "                  time_elapsed // 60, time_elapsed % 60))\n",
    "\n",
    "    # update the best model if current model has higher accuracy\n",
    "    if val_corrects / max_val_corrects * 100 > best_acc:\n",
    "        best_acc = val_corrects / max_val_corrects * 100\n",
    "        best_model = copy.deepcopy(model.state_dict())\n",
    "        print(\"best model updated-epoch: {} | val_accuracy: {:.4f}\"\n",
    "            .format(epoch+1, best_acc))\n",
    "\n",
    "time_elapsed = time.time() - since\n"
   ]
  },
  {
   "cell_type": "code",
   "execution_count": null,
   "metadata": {},
   "outputs": [],
   "source": [
    "print('Training complete in {:.0f}m {:.0f}s'\n",
    "      .format(time_elapsed // 60, time_elapsed % 60))\n",
    "print('Best valid Acc: %.2f' %(best_acc))\n",
    "\n",
    "# save best model to best_model.pt\n",
    "model.load_state_dict(best_model)\n",
    "torch.save(model.state_dict(), '/kaggle/working/best_model.pt')\n",
    "print(\"model saved\")"
   ]
  },
  {
   "cell_type": "code",
   "execution_count": null,
   "metadata": {},
   "outputs": [],
   "source": [
    "plt.plot(trn_loss_list, label='train_loss')\n",
    "plt.plot(val_loss_list, label='val_loss')\n",
    "plt.plot(trn_acc_list, label='train_acc')\n",
    "plt.plot(val_acc_list, label='val_acc')\n",
    "\n",
    "plt.legend()"
   ]
  },
  {
   "cell_type": "code",
   "execution_count": null,
   "metadata": {},
   "outputs": [],
   "source": [
    "corrects = 0\n",
    "total = 0\n",
    "\n",
    "model.eval()\n",
    "with torch.no_grad():\n",
    "    for j, (data, target) in enumerate(dataloaders['test']):\n",
    "        data, target = data.to(dev), target.to(dev)\n",
    "\n",
    "        output = best_model(data)\n",
    "        \n",
    "        _, preds = torch.max(output, 1)\n",
    "        corrects += torch.sum(preds == target.data)\n",
    "        total += len(preds)\n",
    "        \n",
    "print(\"{}/{} | test accuracy: {:.4f}\".format(corrects, total, corrects/total))"
   ]
  },
  {
   "cell_type": "code",
   "execution_count": null,
   "metadata": {},
   "outputs": [],
   "source": [
    "# real test folder data\n",
    "batch_size = 64\n",
    "\n",
    "data_path = '/kaggle/input/fruits/fruits-360/Test'\n",
    "\n",
    "test_fruit = datasets.ImageFolder(\n",
    "    data_path,\n",
    "    transforms.Compose([\n",
    "        transforms.Resize((192, 192)),\n",
    "        transforms.ToTensor(),\n",
    "        transforms.Normalize(mean=[0.485, 0.456, 0.406], std=[0.229, 0.224, 0.225]),\n",
    "    ])\n",
    ")\n",
    "\n",
    "test_data = DataLoader(test_fruit,\n",
    "                      batch_size=batch_size, shuffle=True,\n",
    "                      num_workers=8)\n",
    "\n",
    "\n",
    "print('batch_size : {}\\ntest : {}'\n",
    "      .format(batch_size, len(test_data)))"
   ]
  },
  {
   "cell_type": "code",
   "execution_count": null,
   "metadata": {},
   "outputs": [],
   "source": [
    "corrects = 0\n",
    "total = 0\n",
    "\n",
    "model.eval()\n",
    "with torch.no_grad():\n",
    "    for j, (data, target) in enumerate(test_data):\n",
    "        data, target = data.to(dev), target.to(dev)\n",
    "\n",
    "        output = best_model(data)\n",
    "        \n",
    "        _, preds = torch.max(output, 1)\n",
    "        corrects += torch.sum(preds == target.data)\n",
    "        total += len(preds)\n",
    "        \n",
    "print(\"{}/{} | test accuracy: {:.4f}\".format(corrects, total, corrects/total))"
   ]
  },
  {
   "cell_type": "code",
   "execution_count": null,
   "metadata": {},
   "outputs": [],
   "source": []
  },
  {
   "cell_type": "code",
   "execution_count": null,
   "metadata": {},
   "outputs": [],
   "source": []
  }
 ],
 "metadata": {
  "colab": {
   "authorship_tag": "ABX9TyOOVEdSBItHtXWwVoqrZAhk",
   "collapsed_sections": [],
   "name": "NFNets.ipynb",
   "provenance": []
  },
  "kernelspec": {
   "display_name": "Python 3",
   "language": "python",
   "name": "python3"
  },
  "language_info": {
   "codemirror_mode": {
    "name": "ipython",
    "version": 3
   },
   "file_extension": ".py",
   "mimetype": "text/x-python",
   "name": "python",
   "nbconvert_exporter": "python",
   "pygments_lexer": "ipython3",
   "version": "3.9.2"
  }
 },
 "nbformat": 4,
 "nbformat_minor": 1
}
