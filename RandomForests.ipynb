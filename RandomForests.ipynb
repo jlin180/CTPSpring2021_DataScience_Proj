{
 "cells": [
  {
   "cell_type": "code",
   "execution_count": 33,
   "id": "smart-international",
   "metadata": {},
   "outputs": [],
   "source": [
    "# !pip install glob2\n",
    "# !pip install opencv-python"
   ]
  },
  {
   "cell_type": "code",
   "execution_count": 34,
   "id": "certain-infrastructure",
   "metadata": {},
   "outputs": [],
   "source": [
    "# imports\n",
    "import numpy as np\n",
    "import pandas as pd\n",
    "%matplotlib inline\n",
    "import matplotlib.pyplot as plt\n",
    "import glob\n",
    "import os\n",
    "#import\n",
    "from sklearn import tree\n",
    "from sklearn.preprocessing import StandardScaler\n",
    "from sklearn.ensemble import RandomForestClassifier\n",
    "from sklearn.metrics import accuracy_score\n",
    "from sklearn import svm\n",
    "from sklearn.cluster import KMeans \n",
    "from sklearn.model_selection import train_test_split\n",
    "from sklearn.metrics import accuracy_score, precision_score, recall_score, confusion_matrix, f1_score, roc_auc_score\n",
    "from sklearn.model_selection import GridSearchCV\n",
    "from sklearn.tree import DecisionTreeClassifier\n",
    "from sklearn.ensemble import RandomForestClassifier\n",
    "from sklearn.decomposition import PCA\n",
    "import graphviz\n",
    "\n",
    "import seaborn as sns\n",
    "import matplotlib.pyplot as plt\n",
    "import glob\n",
    "import cv2\n",
    "from sklearn import metrics"
   ]
  },
  {
   "cell_type": "code",
   "execution_count": 35,
   "id": "rising-delta",
   "metadata": {},
   "outputs": [],
   "source": [
    "fruit_images = []\n",
    "labels = [] \n",
    "\n",
    "for fruit_dir_path in glob.glob(\"./fruits-360/Training/*\"):\n",
    "    fruit_label = fruit_dir_path.split(\"/\")[-1] \n",
    "    #fruit_label = fruit_dir_path.split(\"\\\\\")[-1] for windows\n",
    "    for image_path in glob.glob(os.path.join(fruit_dir_path, \"*.jpg\")):\n",
    "        image = cv2.imread(image_path, cv2.IMREAD_COLOR)\n",
    "        \n",
    "        image = cv2.resize(image, (45, 45))\n",
    "        image = cv2.cvtColor(image, cv2.COLOR_RGB2BGR)\n",
    "        \n",
    "        fruit_images.append(image)\n",
    "        labels.append(fruit_label)\n",
    "fruit_images = np.array(fruit_images)\n",
    "labels = np.array(labels)"
   ]
  },
  {
   "cell_type": "code",
   "execution_count": 36,
   "id": "revolutionary-innocent",
   "metadata": {},
   "outputs": [],
   "source": [
    "label_to_id_dict = {v:i for i,v in enumerate(np.unique(labels))}\n",
    "id_to_label_dict = {v: k for k, v in label_to_id_dict.items()}"
   ]
  },
  {
   "cell_type": "code",
   "execution_count": 37,
   "id": "desirable-sister",
   "metadata": {},
   "outputs": [
    {
     "data": {
      "text/plain": [
       "{0: 'Apple Braeburn',\n",
       " 1: 'Apple Crimson Snow',\n",
       " 2: 'Apple Golden 1',\n",
       " 3: 'Apple Golden 2',\n",
       " 4: 'Apple Golden 3',\n",
       " 5: 'Apple Granny Smith',\n",
       " 6: 'Apple Pink Lady',\n",
       " 7: 'Apple Red 1',\n",
       " 8: 'Apple Red 2',\n",
       " 9: 'Apple Red 3',\n",
       " 10: 'Apple Red Delicious',\n",
       " 11: 'Apple Red Yellow 1',\n",
       " 12: 'Apple Red Yellow 2',\n",
       " 13: 'Apricot',\n",
       " 14: 'Avocado',\n",
       " 15: 'Avocado ripe',\n",
       " 16: 'Banana',\n",
       " 17: 'Banana Lady Finger',\n",
       " 18: 'Banana Red',\n",
       " 19: 'Beetroot',\n",
       " 20: 'Blueberry',\n",
       " 21: 'Cactus fruit',\n",
       " 22: 'Cantaloupe 1',\n",
       " 23: 'Cantaloupe 2',\n",
       " 24: 'Carambula',\n",
       " 25: 'Cauliflower',\n",
       " 26: 'Cherry 1',\n",
       " 27: 'Cherry 2',\n",
       " 28: 'Cherry Rainier',\n",
       " 29: 'Cherry Wax Black',\n",
       " 30: 'Cherry Wax Red',\n",
       " 31: 'Cherry Wax Yellow',\n",
       " 32: 'Chestnut',\n",
       " 33: 'Clementine',\n",
       " 34: 'Cocos',\n",
       " 35: 'Corn',\n",
       " 36: 'Corn Husk',\n",
       " 37: 'Cucumber Ripe',\n",
       " 38: 'Cucumber Ripe 2',\n",
       " 39: 'Dates',\n",
       " 40: 'Eggplant',\n",
       " 41: 'Fig',\n",
       " 42: 'Ginger Root',\n",
       " 43: 'Granadilla',\n",
       " 44: 'Grape Blue',\n",
       " 45: 'Grape Pink',\n",
       " 46: 'Grape White',\n",
       " 47: 'Grape White 2',\n",
       " 48: 'Grape White 3',\n",
       " 49: 'Grape White 4',\n",
       " 50: 'Grapefruit Pink',\n",
       " 51: 'Grapefruit White',\n",
       " 52: 'Guava',\n",
       " 53: 'Hazelnut',\n",
       " 54: 'Huckleberry',\n",
       " 55: 'Kaki',\n",
       " 56: 'Kiwi',\n",
       " 57: 'Kohlrabi',\n",
       " 58: 'Kumquats',\n",
       " 59: 'Lemon',\n",
       " 60: 'Lemon Meyer',\n",
       " 61: 'Limes',\n",
       " 62: 'Lychee',\n",
       " 63: 'Mandarine',\n",
       " 64: 'Mango',\n",
       " 65: 'Mango Red',\n",
       " 66: 'Mangostan',\n",
       " 67: 'Maracuja',\n",
       " 68: 'Melon Piel de Sapo',\n",
       " 69: 'Mulberry',\n",
       " 70: 'Nectarine',\n",
       " 71: 'Nectarine Flat',\n",
       " 72: 'Nut Forest',\n",
       " 73: 'Nut Pecan',\n",
       " 74: 'Onion Red',\n",
       " 75: 'Onion Red Peeled',\n",
       " 76: 'Onion White',\n",
       " 77: 'Orange',\n",
       " 78: 'Papaya',\n",
       " 79: 'Passion Fruit',\n",
       " 80: 'Peach',\n",
       " 81: 'Peach 2',\n",
       " 82: 'Peach Flat',\n",
       " 83: 'Pear',\n",
       " 84: 'Pear 2',\n",
       " 85: 'Pear Abate',\n",
       " 86: 'Pear Forelle',\n",
       " 87: 'Pear Kaiser',\n",
       " 88: 'Pear Monster',\n",
       " 89: 'Pear Red',\n",
       " 90: 'Pear Stone',\n",
       " 91: 'Pear Williams',\n",
       " 92: 'Pepino',\n",
       " 93: 'Pepper Green',\n",
       " 94: 'Pepper Orange',\n",
       " 95: 'Pepper Red',\n",
       " 96: 'Pepper Yellow',\n",
       " 97: 'Physalis',\n",
       " 98: 'Physalis with Husk',\n",
       " 99: 'Pineapple',\n",
       " 100: 'Pineapple Mini',\n",
       " 101: 'Pitahaya Red',\n",
       " 102: 'Plum',\n",
       " 103: 'Plum 2',\n",
       " 104: 'Plum 3',\n",
       " 105: 'Pomegranate',\n",
       " 106: 'Pomelo Sweetie',\n",
       " 107: 'Potato Red',\n",
       " 108: 'Potato Red Washed',\n",
       " 109: 'Potato Sweet',\n",
       " 110: 'Potato White',\n",
       " 111: 'Quince',\n",
       " 112: 'Rambutan',\n",
       " 113: 'Raspberry',\n",
       " 114: 'Redcurrant',\n",
       " 115: 'Salak',\n",
       " 116: 'Strawberry',\n",
       " 117: 'Strawberry Wedge',\n",
       " 118: 'Tamarillo',\n",
       " 119: 'Tangelo',\n",
       " 120: 'Tomato 1',\n",
       " 121: 'Tomato 2',\n",
       " 122: 'Tomato 3',\n",
       " 123: 'Tomato 4',\n",
       " 124: 'Tomato Cherry Red',\n",
       " 125: 'Tomato Heart',\n",
       " 126: 'Tomato Maroon',\n",
       " 127: 'Tomato Yellow',\n",
       " 128: 'Tomato not Ripened',\n",
       " 129: 'Walnut',\n",
       " 130: 'Watermelon'}"
      ]
     },
     "execution_count": 37,
     "metadata": {},
     "output_type": "execute_result"
    }
   ],
   "source": [
    "id_to_label_dict"
   ]
  },
  {
   "cell_type": "code",
   "execution_count": 38,
   "id": "dirty-decrease",
   "metadata": {},
   "outputs": [],
   "source": [
    "labelIDs = np.array([label_to_id_dict[x] for x in labels])"
   ]
  },
  {
   "cell_type": "markdown",
   "id": "applied-freeze",
   "metadata": {},
   "source": [
    "## EDA - Exploratory Data Analysis"
   ]
  },
  {
   "cell_type": "markdown",
   "id": "dated-amount",
   "metadata": {},
   "source": [
    "## PCA \n",
    "- What is PCA\n",
    "- Why are we doing it\n",
    "- How we are doing it"
   ]
  },
  {
   "cell_type": "code",
   "execution_count": 39,
   "id": "traditional-shift",
   "metadata": {},
   "outputs": [],
   "source": [
    "scaler = StandardScaler()\n",
    "images_scaled = scaler.fit_transform([i.flatten() for i in fruit_images])"
   ]
  },
  {
   "cell_type": "code",
   "execution_count": 40,
   "id": "bright-bahrain",
   "metadata": {},
   "outputs": [
    {
     "ename": "KeyboardInterrupt",
     "evalue": "",
     "output_type": "error",
     "traceback": [
      "\u001b[0;31m---------------------------------------------------------------------------\u001b[0m",
      "\u001b[0;31mKeyboardInterrupt\u001b[0m                         Traceback (most recent call last)",
      "\u001b[0;32m<ipython-input-40-95bfda9c4bfc>\u001b[0m in \u001b[0;36m<module>\u001b[0;34m\u001b[0m\n\u001b[1;32m      1\u001b[0m \u001b[0mpca\u001b[0m \u001b[0;34m=\u001b[0m \u001b[0mPCA\u001b[0m\u001b[0;34m(\u001b[0m\u001b[0mn_components\u001b[0m \u001b[0;34m=\u001b[0m \u001b[0;36m50\u001b[0m\u001b[0;34m)\u001b[0m\u001b[0;34m\u001b[0m\u001b[0;34m\u001b[0m\u001b[0m\n\u001b[0;32m----> 2\u001b[0;31m \u001b[0mpca_result\u001b[0m \u001b[0;34m=\u001b[0m \u001b[0mpca\u001b[0m\u001b[0;34m.\u001b[0m\u001b[0mfit_transform\u001b[0m\u001b[0;34m(\u001b[0m\u001b[0mimages_scaled\u001b[0m\u001b[0;34m)\u001b[0m\u001b[0;34m\u001b[0m\u001b[0;34m\u001b[0m\u001b[0m\n\u001b[0m",
      "\u001b[0;32m/usr/local/lib/python3.9/site-packages/sklearn/decomposition/_pca.py\u001b[0m in \u001b[0;36mfit_transform\u001b[0;34m(self, X, y)\u001b[0m\n\u001b[1;32m    374\u001b[0m         \u001b[0mC\u001b[0m\u001b[0;34m-\u001b[0m\u001b[0mordered\u001b[0m \u001b[0marray\u001b[0m\u001b[0;34m,\u001b[0m \u001b[0muse\u001b[0m \u001b[0;34m'np.ascontiguousarray'\u001b[0m\u001b[0;34m.\u001b[0m\u001b[0;34m\u001b[0m\u001b[0;34m\u001b[0m\u001b[0m\n\u001b[1;32m    375\u001b[0m         \"\"\"\n\u001b[0;32m--> 376\u001b[0;31m         \u001b[0mU\u001b[0m\u001b[0;34m,\u001b[0m \u001b[0mS\u001b[0m\u001b[0;34m,\u001b[0m \u001b[0mVt\u001b[0m \u001b[0;34m=\u001b[0m \u001b[0mself\u001b[0m\u001b[0;34m.\u001b[0m\u001b[0m_fit\u001b[0m\u001b[0;34m(\u001b[0m\u001b[0mX\u001b[0m\u001b[0;34m)\u001b[0m\u001b[0;34m\u001b[0m\u001b[0;34m\u001b[0m\u001b[0m\n\u001b[0m\u001b[1;32m    377\u001b[0m         \u001b[0mU\u001b[0m \u001b[0;34m=\u001b[0m \u001b[0mU\u001b[0m\u001b[0;34m[\u001b[0m\u001b[0;34m:\u001b[0m\u001b[0;34m,\u001b[0m \u001b[0;34m:\u001b[0m\u001b[0mself\u001b[0m\u001b[0;34m.\u001b[0m\u001b[0mn_components_\u001b[0m\u001b[0;34m]\u001b[0m\u001b[0;34m\u001b[0m\u001b[0;34m\u001b[0m\u001b[0m\n\u001b[1;32m    378\u001b[0m \u001b[0;34m\u001b[0m\u001b[0m\n",
      "\u001b[0;32m/usr/local/lib/python3.9/site-packages/sklearn/decomposition/_pca.py\u001b[0m in \u001b[0;36m_fit\u001b[0;34m(self, X)\u001b[0m\n\u001b[1;32m    423\u001b[0m             \u001b[0;32mreturn\u001b[0m \u001b[0mself\u001b[0m\u001b[0;34m.\u001b[0m\u001b[0m_fit_full\u001b[0m\u001b[0;34m(\u001b[0m\u001b[0mX\u001b[0m\u001b[0;34m,\u001b[0m \u001b[0mn_components\u001b[0m\u001b[0;34m)\u001b[0m\u001b[0;34m\u001b[0m\u001b[0;34m\u001b[0m\u001b[0m\n\u001b[1;32m    424\u001b[0m         \u001b[0;32melif\u001b[0m \u001b[0mself\u001b[0m\u001b[0;34m.\u001b[0m\u001b[0m_fit_svd_solver\u001b[0m \u001b[0;32min\u001b[0m \u001b[0;34m[\u001b[0m\u001b[0;34m'arpack'\u001b[0m\u001b[0;34m,\u001b[0m \u001b[0;34m'randomized'\u001b[0m\u001b[0;34m]\u001b[0m\u001b[0;34m:\u001b[0m\u001b[0;34m\u001b[0m\u001b[0;34m\u001b[0m\u001b[0m\n\u001b[0;32m--> 425\u001b[0;31m             \u001b[0;32mreturn\u001b[0m \u001b[0mself\u001b[0m\u001b[0;34m.\u001b[0m\u001b[0m_fit_truncated\u001b[0m\u001b[0;34m(\u001b[0m\u001b[0mX\u001b[0m\u001b[0;34m,\u001b[0m \u001b[0mn_components\u001b[0m\u001b[0;34m,\u001b[0m \u001b[0mself\u001b[0m\u001b[0;34m.\u001b[0m\u001b[0m_fit_svd_solver\u001b[0m\u001b[0;34m)\u001b[0m\u001b[0;34m\u001b[0m\u001b[0;34m\u001b[0m\u001b[0m\n\u001b[0m\u001b[1;32m    426\u001b[0m         \u001b[0;32melse\u001b[0m\u001b[0;34m:\u001b[0m\u001b[0;34m\u001b[0m\u001b[0;34m\u001b[0m\u001b[0m\n\u001b[1;32m    427\u001b[0m             raise ValueError(\"Unrecognized svd_solver='{0}'\"\n",
      "\u001b[0;32m/usr/local/lib/python3.9/site-packages/sklearn/decomposition/_pca.py\u001b[0m in \u001b[0;36m_fit_truncated\u001b[0;34m(self, X, n_components, svd_solver)\u001b[0m\n\u001b[1;32m    539\u001b[0m         \u001b[0;32melif\u001b[0m \u001b[0msvd_solver\u001b[0m \u001b[0;34m==\u001b[0m \u001b[0;34m'randomized'\u001b[0m\u001b[0;34m:\u001b[0m\u001b[0;34m\u001b[0m\u001b[0;34m\u001b[0m\u001b[0m\n\u001b[1;32m    540\u001b[0m             \u001b[0;31m# sign flipping is done inside\u001b[0m\u001b[0;34m\u001b[0m\u001b[0;34m\u001b[0m\u001b[0;34m\u001b[0m\u001b[0m\n\u001b[0;32m--> 541\u001b[0;31m             U, S, Vt = randomized_svd(X, n_components=n_components,\n\u001b[0m\u001b[1;32m    542\u001b[0m                                       \u001b[0mn_iter\u001b[0m\u001b[0;34m=\u001b[0m\u001b[0mself\u001b[0m\u001b[0;34m.\u001b[0m\u001b[0miterated_power\u001b[0m\u001b[0;34m,\u001b[0m\u001b[0;34m\u001b[0m\u001b[0;34m\u001b[0m\u001b[0m\n\u001b[1;32m    543\u001b[0m                                       \u001b[0mflip_sign\u001b[0m\u001b[0;34m=\u001b[0m\u001b[0;32mTrue\u001b[0m\u001b[0;34m,\u001b[0m\u001b[0;34m\u001b[0m\u001b[0;34m\u001b[0m\u001b[0m\n",
      "\u001b[0;32m/usr/local/lib/python3.9/site-packages/sklearn/utils/validation.py\u001b[0m in \u001b[0;36minner_f\u001b[0;34m(*args, **kwargs)\u001b[0m\n\u001b[1;32m     61\u001b[0m             \u001b[0mextra_args\u001b[0m \u001b[0;34m=\u001b[0m \u001b[0mlen\u001b[0m\u001b[0;34m(\u001b[0m\u001b[0margs\u001b[0m\u001b[0;34m)\u001b[0m \u001b[0;34m-\u001b[0m \u001b[0mlen\u001b[0m\u001b[0;34m(\u001b[0m\u001b[0mall_args\u001b[0m\u001b[0;34m)\u001b[0m\u001b[0;34m\u001b[0m\u001b[0;34m\u001b[0m\u001b[0m\n\u001b[1;32m     62\u001b[0m             \u001b[0;32mif\u001b[0m \u001b[0mextra_args\u001b[0m \u001b[0;34m<=\u001b[0m \u001b[0;36m0\u001b[0m\u001b[0;34m:\u001b[0m\u001b[0;34m\u001b[0m\u001b[0;34m\u001b[0m\u001b[0m\n\u001b[0;32m---> 63\u001b[0;31m                 \u001b[0;32mreturn\u001b[0m \u001b[0mf\u001b[0m\u001b[0;34m(\u001b[0m\u001b[0;34m*\u001b[0m\u001b[0margs\u001b[0m\u001b[0;34m,\u001b[0m \u001b[0;34m**\u001b[0m\u001b[0mkwargs\u001b[0m\u001b[0;34m)\u001b[0m\u001b[0;34m\u001b[0m\u001b[0;34m\u001b[0m\u001b[0m\n\u001b[0m\u001b[1;32m     64\u001b[0m \u001b[0;34m\u001b[0m\u001b[0m\n\u001b[1;32m     65\u001b[0m             \u001b[0;31m# extra_args > 0\u001b[0m\u001b[0;34m\u001b[0m\u001b[0;34m\u001b[0m\u001b[0;34m\u001b[0m\u001b[0m\n",
      "\u001b[0;32m/usr/local/lib/python3.9/site-packages/sklearn/utils/extmath.py\u001b[0m in \u001b[0;36mrandomized_svd\u001b[0;34m(M, n_components, n_oversamples, n_iter, power_iteration_normalizer, transpose, flip_sign, random_state)\u001b[0m\n\u001b[1;32m    346\u001b[0m         \u001b[0mM\u001b[0m \u001b[0;34m=\u001b[0m \u001b[0mM\u001b[0m\u001b[0;34m.\u001b[0m\u001b[0mT\u001b[0m\u001b[0;34m\u001b[0m\u001b[0;34m\u001b[0m\u001b[0m\n\u001b[1;32m    347\u001b[0m \u001b[0;34m\u001b[0m\u001b[0m\n\u001b[0;32m--> 348\u001b[0;31m     Q = randomized_range_finder(\n\u001b[0m\u001b[1;32m    349\u001b[0m         \u001b[0mM\u001b[0m\u001b[0;34m,\u001b[0m \u001b[0msize\u001b[0m\u001b[0;34m=\u001b[0m\u001b[0mn_random\u001b[0m\u001b[0;34m,\u001b[0m \u001b[0mn_iter\u001b[0m\u001b[0;34m=\u001b[0m\u001b[0mn_iter\u001b[0m\u001b[0;34m,\u001b[0m\u001b[0;34m\u001b[0m\u001b[0;34m\u001b[0m\u001b[0m\n\u001b[1;32m    350\u001b[0m         \u001b[0mpower_iteration_normalizer\u001b[0m\u001b[0;34m=\u001b[0m\u001b[0mpower_iteration_normalizer\u001b[0m\u001b[0;34m,\u001b[0m\u001b[0;34m\u001b[0m\u001b[0;34m\u001b[0m\u001b[0m\n",
      "\u001b[0;32m/usr/local/lib/python3.9/site-packages/sklearn/utils/validation.py\u001b[0m in \u001b[0;36minner_f\u001b[0;34m(*args, **kwargs)\u001b[0m\n\u001b[1;32m     61\u001b[0m             \u001b[0mextra_args\u001b[0m \u001b[0;34m=\u001b[0m \u001b[0mlen\u001b[0m\u001b[0;34m(\u001b[0m\u001b[0margs\u001b[0m\u001b[0;34m)\u001b[0m \u001b[0;34m-\u001b[0m \u001b[0mlen\u001b[0m\u001b[0;34m(\u001b[0m\u001b[0mall_args\u001b[0m\u001b[0;34m)\u001b[0m\u001b[0;34m\u001b[0m\u001b[0;34m\u001b[0m\u001b[0m\n\u001b[1;32m     62\u001b[0m             \u001b[0;32mif\u001b[0m \u001b[0mextra_args\u001b[0m \u001b[0;34m<=\u001b[0m \u001b[0;36m0\u001b[0m\u001b[0;34m:\u001b[0m\u001b[0;34m\u001b[0m\u001b[0;34m\u001b[0m\u001b[0m\n\u001b[0;32m---> 63\u001b[0;31m                 \u001b[0;32mreturn\u001b[0m \u001b[0mf\u001b[0m\u001b[0;34m(\u001b[0m\u001b[0;34m*\u001b[0m\u001b[0margs\u001b[0m\u001b[0;34m,\u001b[0m \u001b[0;34m**\u001b[0m\u001b[0mkwargs\u001b[0m\u001b[0;34m)\u001b[0m\u001b[0;34m\u001b[0m\u001b[0;34m\u001b[0m\u001b[0m\n\u001b[0m\u001b[1;32m     64\u001b[0m \u001b[0;34m\u001b[0m\u001b[0m\n\u001b[1;32m     65\u001b[0m             \u001b[0;31m# extra_args > 0\u001b[0m\u001b[0;34m\u001b[0m\u001b[0;34m\u001b[0m\u001b[0;34m\u001b[0m\u001b[0m\n",
      "\u001b[0;32m/usr/local/lib/python3.9/site-packages/sklearn/utils/extmath.py\u001b[0m in \u001b[0;36mrandomized_range_finder\u001b[0;34m(A, size, n_iter, power_iteration_normalizer, random_state)\u001b[0m\n\u001b[1;32m    232\u001b[0m         \u001b[0;32melif\u001b[0m \u001b[0mpower_iteration_normalizer\u001b[0m \u001b[0;34m==\u001b[0m \u001b[0;34m'LU'\u001b[0m\u001b[0;34m:\u001b[0m\u001b[0;34m\u001b[0m\u001b[0;34m\u001b[0m\u001b[0m\n\u001b[1;32m    233\u001b[0m             \u001b[0mQ\u001b[0m\u001b[0;34m,\u001b[0m \u001b[0m_\u001b[0m \u001b[0;34m=\u001b[0m \u001b[0mlinalg\u001b[0m\u001b[0;34m.\u001b[0m\u001b[0mlu\u001b[0m\u001b[0;34m(\u001b[0m\u001b[0msafe_sparse_dot\u001b[0m\u001b[0;34m(\u001b[0m\u001b[0mA\u001b[0m\u001b[0;34m,\u001b[0m \u001b[0mQ\u001b[0m\u001b[0;34m)\u001b[0m\u001b[0;34m,\u001b[0m \u001b[0mpermute_l\u001b[0m\u001b[0;34m=\u001b[0m\u001b[0;32mTrue\u001b[0m\u001b[0;34m)\u001b[0m\u001b[0;34m\u001b[0m\u001b[0;34m\u001b[0m\u001b[0m\n\u001b[0;32m--> 234\u001b[0;31m             \u001b[0mQ\u001b[0m\u001b[0;34m,\u001b[0m \u001b[0m_\u001b[0m \u001b[0;34m=\u001b[0m \u001b[0mlinalg\u001b[0m\u001b[0;34m.\u001b[0m\u001b[0mlu\u001b[0m\u001b[0;34m(\u001b[0m\u001b[0msafe_sparse_dot\u001b[0m\u001b[0;34m(\u001b[0m\u001b[0mA\u001b[0m\u001b[0;34m.\u001b[0m\u001b[0mT\u001b[0m\u001b[0;34m,\u001b[0m \u001b[0mQ\u001b[0m\u001b[0;34m)\u001b[0m\u001b[0;34m,\u001b[0m \u001b[0mpermute_l\u001b[0m\u001b[0;34m=\u001b[0m\u001b[0;32mTrue\u001b[0m\u001b[0;34m)\u001b[0m\u001b[0;34m\u001b[0m\u001b[0;34m\u001b[0m\u001b[0m\n\u001b[0m\u001b[1;32m    235\u001b[0m         \u001b[0;32melif\u001b[0m \u001b[0mpower_iteration_normalizer\u001b[0m \u001b[0;34m==\u001b[0m \u001b[0;34m'QR'\u001b[0m\u001b[0;34m:\u001b[0m\u001b[0;34m\u001b[0m\u001b[0;34m\u001b[0m\u001b[0m\n\u001b[1;32m    236\u001b[0m             \u001b[0mQ\u001b[0m\u001b[0;34m,\u001b[0m \u001b[0m_\u001b[0m \u001b[0;34m=\u001b[0m \u001b[0mlinalg\u001b[0m\u001b[0;34m.\u001b[0m\u001b[0mqr\u001b[0m\u001b[0;34m(\u001b[0m\u001b[0msafe_sparse_dot\u001b[0m\u001b[0;34m(\u001b[0m\u001b[0mA\u001b[0m\u001b[0;34m,\u001b[0m \u001b[0mQ\u001b[0m\u001b[0;34m)\u001b[0m\u001b[0;34m,\u001b[0m \u001b[0mmode\u001b[0m\u001b[0;34m=\u001b[0m\u001b[0;34m'economic'\u001b[0m\u001b[0;34m)\u001b[0m\u001b[0;34m\u001b[0m\u001b[0;34m\u001b[0m\u001b[0m\n",
      "\u001b[0;32m/usr/local/lib/python3.9/site-packages/sklearn/utils/validation.py\u001b[0m in \u001b[0;36minner_f\u001b[0;34m(*args, **kwargs)\u001b[0m\n\u001b[1;32m     61\u001b[0m             \u001b[0mextra_args\u001b[0m \u001b[0;34m=\u001b[0m \u001b[0mlen\u001b[0m\u001b[0;34m(\u001b[0m\u001b[0margs\u001b[0m\u001b[0;34m)\u001b[0m \u001b[0;34m-\u001b[0m \u001b[0mlen\u001b[0m\u001b[0;34m(\u001b[0m\u001b[0mall_args\u001b[0m\u001b[0;34m)\u001b[0m\u001b[0;34m\u001b[0m\u001b[0;34m\u001b[0m\u001b[0m\n\u001b[1;32m     62\u001b[0m             \u001b[0;32mif\u001b[0m \u001b[0mextra_args\u001b[0m \u001b[0;34m<=\u001b[0m \u001b[0;36m0\u001b[0m\u001b[0;34m:\u001b[0m\u001b[0;34m\u001b[0m\u001b[0;34m\u001b[0m\u001b[0m\n\u001b[0;32m---> 63\u001b[0;31m                 \u001b[0;32mreturn\u001b[0m \u001b[0mf\u001b[0m\u001b[0;34m(\u001b[0m\u001b[0;34m*\u001b[0m\u001b[0margs\u001b[0m\u001b[0;34m,\u001b[0m \u001b[0;34m**\u001b[0m\u001b[0mkwargs\u001b[0m\u001b[0;34m)\u001b[0m\u001b[0;34m\u001b[0m\u001b[0;34m\u001b[0m\u001b[0m\n\u001b[0m\u001b[1;32m     64\u001b[0m \u001b[0;34m\u001b[0m\u001b[0m\n\u001b[1;32m     65\u001b[0m             \u001b[0;31m# extra_args > 0\u001b[0m\u001b[0;34m\u001b[0m\u001b[0;34m\u001b[0m\u001b[0;34m\u001b[0m\u001b[0m\n",
      "\u001b[0;32m/usr/local/lib/python3.9/site-packages/sklearn/utils/extmath.py\u001b[0m in \u001b[0;36msafe_sparse_dot\u001b[0;34m(a, b, dense_output)\u001b[0m\n\u001b[1;32m    150\u001b[0m             \u001b[0mret\u001b[0m \u001b[0;34m=\u001b[0m \u001b[0mnp\u001b[0m\u001b[0;34m.\u001b[0m\u001b[0mdot\u001b[0m\u001b[0;34m(\u001b[0m\u001b[0ma\u001b[0m\u001b[0;34m,\u001b[0m \u001b[0mb\u001b[0m\u001b[0;34m)\u001b[0m\u001b[0;34m\u001b[0m\u001b[0;34m\u001b[0m\u001b[0m\n\u001b[1;32m    151\u001b[0m     \u001b[0;32melse\u001b[0m\u001b[0;34m:\u001b[0m\u001b[0;34m\u001b[0m\u001b[0;34m\u001b[0m\u001b[0m\n\u001b[0;32m--> 152\u001b[0;31m         \u001b[0mret\u001b[0m \u001b[0;34m=\u001b[0m \u001b[0ma\u001b[0m \u001b[0;34m@\u001b[0m \u001b[0mb\u001b[0m\u001b[0;34m\u001b[0m\u001b[0;34m\u001b[0m\u001b[0m\n\u001b[0m\u001b[1;32m    153\u001b[0m \u001b[0;34m\u001b[0m\u001b[0m\n\u001b[1;32m    154\u001b[0m     if (sparse.issparse(a) and sparse.issparse(b)\n",
      "\u001b[0;31mKeyboardInterrupt\u001b[0m: "
     ]
    }
   ],
   "source": [
    "pca = PCA(n_components = 50)\n",
    "pca_result = pca.fit_transform(images_scaled)\n"
   ]
  },
  {
   "cell_type": "code",
   "execution_count": null,
   "id": "injured-planning",
   "metadata": {},
   "outputs": [],
   "source": [
    "pca_result[0]"
   ]
  },
  {
   "cell_type": "code",
   "execution_count": null,
   "id": "committed-india",
   "metadata": {},
   "outputs": [],
   "source": [
    "scaled_image = scaler.fit_transform([fruit_images[0].flatten()])\n",
    "pca_image = pca.fit_transform(scaled_image)"
   ]
  },
  {
   "cell_type": "markdown",
   "id": "downtown-process",
   "metadata": {},
   "source": [
    "# Training Random Forest Classifier"
   ]
  },
  {
   "cell_type": "code",
   "execution_count": 18,
   "id": "instrumental-arnold",
   "metadata": {},
   "outputs": [],
   "source": [
    "X_train, X_test, y_train, y_test= train_test_split(pca_result, labelIDs, test_size =0.25, random_state=42)\n"
   ]
  },
  {
   "cell_type": "code",
   "execution_count": 19,
   "id": "sitting-rehabilitation",
   "metadata": {},
   "outputs": [],
   "source": [
    "X_train, X_val, y_train, y_val = train_test_split(X_train, y_train, test_size = 0.25, random_state=1 )"
   ]
  },
  {
   "cell_type": "code",
   "execution_count": 11,
   "id": "expanded-equity",
   "metadata": {},
   "outputs": [],
   "source": [
    "forest = RandomForestClassifier(n_estimators=10).fit(X_train, y_train)\n"
   ]
  },
  {
   "cell_type": "code",
   "execution_count": 12,
   "id": "center-engineer",
   "metadata": {},
   "outputs": [],
   "source": [
    "test_predictions = forest.predict(X_test)"
   ]
  },
  {
   "cell_type": "code",
   "execution_count": 13,
   "id": "eight-brooks",
   "metadata": {},
   "outputs": [
    {
     "name": "stdout",
     "output_type": "stream",
     "text": [
      "99.20226910122318\n"
     ]
    }
   ],
   "source": [
    "precision = accuracy_score(test_predictions, y_test) * 100\n",
    "print(precision)\n",
    "# recall, precision, recall\n",
    "# classification report, week 8"
   ]
  },
  {
   "cell_type": "code",
   "execution_count": 14,
   "id": "processed-blackberry",
   "metadata": {},
   "outputs": [
    {
     "name": "stdout",
     "output_type": "stream",
     "text": [
      "              precision    recall  f1-score   support\n",
      "\n",
      "           0       0.98      1.00      0.99       119\n",
      "           1       0.97      1.00      0.99       111\n",
      "           2       0.97      1.00      0.98       114\n",
      "           3       0.97      1.00      0.98       117\n",
      "           4       1.00      1.00      1.00       113\n",
      "           5       0.99      1.00      0.99       132\n",
      "           6       0.98      1.00      0.99       117\n",
      "           7       0.99      0.99      0.99       133\n",
      "           8       0.98      1.00      0.99       119\n",
      "           9       0.99      1.00      1.00       126\n",
      "          10       0.98      1.00      0.99       127\n",
      "          11       0.99      0.99      0.99       127\n",
      "          12       0.99      0.99      0.99       155\n",
      "          13       0.99      1.00      1.00       131\n",
      "          14       1.00      1.00      1.00       113\n",
      "          15       0.99      0.99      0.99       129\n",
      "          16       0.95      0.97      0.96       120\n",
      "          17       1.00      0.92      0.96        95\n",
      "          18       0.96      0.98      0.97       123\n",
      "          19       0.96      0.96      0.96       114\n",
      "          20       1.00      1.00      1.00        98\n",
      "          21       1.00      0.98      0.99       133\n",
      "          22       1.00      1.00      1.00       123\n",
      "          23       1.00      1.00      1.00       127\n",
      "          24       0.99      1.00      1.00       127\n",
      "          25       0.95      1.00      0.98       162\n",
      "          26       1.00      1.00      1.00       115\n",
      "          27       1.00      1.00      1.00       203\n",
      "          28       0.99      1.00      0.99       181\n",
      "          29       1.00      1.00      1.00       116\n",
      "          30       1.00      1.00      1.00       105\n",
      "          31       0.99      1.00      1.00       130\n",
      "          32       1.00      1.00      1.00       115\n",
      "          33       0.99      1.00      1.00       126\n",
      "          34       0.98      0.99      0.99       133\n",
      "          35       1.00      1.00      1.00       103\n",
      "          36       1.00      0.99      1.00       111\n",
      "          37       0.99      0.98      0.98        93\n",
      "          38       1.00      1.00      1.00       115\n",
      "          39       0.99      0.98      0.99       143\n",
      "          40       0.99      1.00      1.00       105\n",
      "          41       1.00      1.00      1.00       185\n",
      "          42       0.97      1.00      0.99        78\n",
      "          43       1.00      0.98      0.99       127\n",
      "          44       0.99      1.00      0.99       237\n",
      "          45       0.98      0.99      0.99       108\n",
      "          46       0.99      1.00      1.00       123\n",
      "          47       1.00      1.00      1.00       134\n",
      "          48       0.99      1.00      1.00       122\n",
      "          49       1.00      0.99      1.00       119\n",
      "          50       1.00      1.00      1.00       110\n",
      "          51       0.99      0.99      0.99       125\n",
      "          52       0.99      1.00      1.00       123\n",
      "          53       0.99      1.00      1.00       116\n",
      "          54       1.00      1.00      1.00       121\n",
      "          55       1.00      0.99      1.00       116\n",
      "          56       0.97      1.00      0.98       111\n",
      "          57       0.97      1.00      0.99       113\n",
      "          58       0.98      1.00      0.99       104\n",
      "          59       0.99      0.99      0.99       143\n",
      "          60       0.99      1.00      1.00       121\n",
      "          61       0.99      0.99      0.99       141\n",
      "          62       1.00      1.00      1.00       121\n",
      "          63       1.00      0.99      1.00       123\n",
      "          64       0.99      1.00      1.00       111\n",
      "          65       1.00      0.99      1.00       112\n",
      "          66       0.99      0.97      0.98        69\n",
      "          67       1.00      1.00      1.00       134\n",
      "          68       0.99      0.99      0.99       182\n",
      "          69       1.00      0.98      0.99       130\n",
      "          70       0.98      0.99      0.98       124\n",
      "          71       1.00      1.00      1.00       118\n",
      "          72       1.00      0.98      0.99       145\n",
      "          73       0.98      0.97      0.98       129\n",
      "          74       0.97      0.97      0.97       118\n",
      "          75       0.98      0.99      0.99       112\n",
      "          76       0.99      1.00      1.00       108\n",
      "          77       1.00      1.00      1.00       125\n",
      "          78       1.00      1.00      1.00       130\n",
      "          79       1.00      1.00      1.00       113\n",
      "          80       0.99      1.00      1.00       135\n",
      "          81       1.00      1.00      1.00       176\n",
      "          82       0.99      0.98      0.99       130\n",
      "          83       1.00      0.98      0.99       111\n",
      "          84       0.99      0.98      0.98       163\n",
      "          85       0.99      0.97      0.98       135\n",
      "          86       0.98      0.98      0.98       173\n",
      "          87       1.00      0.99      0.99        76\n",
      "          88       1.00      0.95      0.97       134\n",
      "          89       1.00      0.98      0.99       176\n",
      "          90       0.99      1.00      1.00       183\n",
      "          91       0.99      1.00      1.00       124\n",
      "          92       1.00      0.98      0.99       125\n",
      "          93       1.00      1.00      1.00       120\n",
      "          94       0.99      0.99      0.99       182\n",
      "          95       0.99      1.00      1.00       147\n",
      "          96       0.99      1.00      1.00       178\n",
      "          97       1.00      1.00      1.00       112\n",
      "          98       1.00      1.00      1.00       125\n",
      "          99       1.00      0.97      0.99       143\n",
      "         100       1.00      1.00      1.00       117\n",
      "         101       1.00      0.99      1.00       110\n",
      "         102       0.99      0.99      0.99       113\n",
      "         103       0.98      1.00      0.99        99\n",
      "         104       0.99      1.00      1.00       204\n",
      "         105       0.97      0.99      0.98       104\n",
      "         106       1.00      1.00      1.00       113\n",
      "         107       0.98      0.92      0.95       114\n",
      "         108       1.00      0.97      0.99       103\n",
      "         109       1.00      0.98      0.99       106\n",
      "         110       0.98      0.99      0.99       109\n",
      "         111       1.00      0.98      0.99       108\n",
      "         112       1.00      1.00      1.00       130\n",
      "         113       1.00      1.00      1.00       134\n",
      "         114       1.00      1.00      1.00       112\n",
      "         115       0.99      0.96      0.97       119\n",
      "         116       1.00      1.00      1.00       125\n",
      "         117       1.00      0.99      1.00       182\n",
      "         118       1.00      0.98      0.99       122\n",
      "         119       1.00      1.00      1.00       111\n",
      "         120       0.99      1.00      1.00       199\n",
      "         121       0.99      0.98      0.99       176\n",
      "         122       0.99      0.99      0.99       188\n",
      "         123       1.00      0.99      1.00       122\n",
      "         124       1.00      1.00      1.00       135\n",
      "         125       0.99      1.00      1.00       190\n",
      "         126       1.00      1.00      1.00       100\n",
      "         127       1.00      0.99      1.00       122\n",
      "         128       1.00      0.99      1.00       111\n",
      "         129       1.00      1.00      1.00       191\n",
      "         130       1.00      0.99      1.00       126\n",
      "\n",
      "    accuracy                           0.99     16923\n",
      "   macro avg       0.99      0.99      0.99     16923\n",
      "weighted avg       0.99      0.99      0.99     16923\n",
      "\n"
     ]
    }
   ],
   "source": [
    "print(metrics.classification_report(y_true = y_test, y_pred = test_predictions))"
   ]
  },
  {
   "cell_type": "markdown",
   "id": "stopped-compact",
   "metadata": {},
   "source": [
    "### Validating with Validation Data"
   ]
  },
  {
   "cell_type": "code",
   "execution_count": 15,
   "id": "behavioral-homeless",
   "metadata": {},
   "outputs": [],
   "source": [
    "val_predictions = forest.predict(X_val)"
   ]
  },
  {
   "cell_type": "code",
   "execution_count": 16,
   "id": "seasonal-crazy",
   "metadata": {},
   "outputs": [
    {
     "name": "stdout",
     "output_type": "stream",
     "text": [
      "99.25943433388483\n"
     ]
    }
   ],
   "source": [
    "val_precision = accuracy_score(val_predictions, y_val) * 100\n",
    "print(val_precision)"
   ]
  },
  {
   "cell_type": "code",
   "execution_count": 64,
   "id": "directed-label",
   "metadata": {},
   "outputs": [],
   "source": [
    "import pickle"
   ]
  },
  {
   "cell_type": "code",
   "execution_count": 18,
   "id": "awful-american",
   "metadata": {},
   "outputs": [],
   "source": [
    "filename = 'randomforest_model.sav'\n",
    "pickle.dump(forest, open(filename, 'wb'))"
   ]
  },
  {
   "cell_type": "code",
   "execution_count": 30,
   "id": "phantom-enclosure",
   "metadata": {},
   "outputs": [
    {
     "data": {
      "text/plain": [
       "(45, 45, 3)"
      ]
     },
     "execution_count": 30,
     "metadata": {},
     "output_type": "execute_result"
    }
   ],
   "source": [
    "fruit_images[0].shape\n",
    "\n"
   ]
  },
  {
   "cell_type": "code",
   "execution_count": 55,
   "id": "classical-wells",
   "metadata": {},
   "outputs": [],
   "source": [
    "X_train, X_test, Y_train, Y_test = train_test_split(fruit_images, labelIDs, test_size=0.25)"
   ]
  },
  {
   "cell_type": "code",
   "execution_count": 56,
   "id": "raising-duplicate",
   "metadata": {},
   "outputs": [],
   "source": [
    "X_train = [x.flatten() for x in X_train]\n",
    "X_test = [x.flatten() for x in X_test]"
   ]
  },
  {
   "cell_type": "code",
   "execution_count": 57,
   "id": "diverse-drunk",
   "metadata": {},
   "outputs": [],
   "source": [
    "pca_scaler = StandardScaler()\n",
    "pca_scaler_model = pca_scaler.fit(X_train)\n",
    "scaled_X_train = pca_scaler_model.transform(X_train)\n",
    "\n",
    "pca = PCA(n_components=50)\n",
    "pca_model = pca.fit(scaled_X_train)"
   ]
  },
  {
   "cell_type": "code",
   "execution_count": 61,
   "id": "photographic-iceland",
   "metadata": {},
   "outputs": [],
   "source": [
    "image = X_test[0]\n",
    "scaled_image = pca_scaler_model.transform([image])\n",
    "pca_image = pca_model.transform(scaled_image)"
   ]
  },
  {
   "cell_type": "code",
   "execution_count": 62,
   "id": "light-wholesale",
   "metadata": {},
   "outputs": [
    {
     "data": {
      "text/plain": [
       "array([[-53.12010314,  -4.08997962, -23.42588811, -15.1147466 ,\n",
       "          3.47012008, -15.42720918,  -0.51378113, -10.05547462,\n",
       "          8.06465046,  -0.65794892,  -0.20376789,  -5.90506031,\n",
       "         -2.49578929,   9.58816886,  -4.52431237,   0.49325667,\n",
       "          1.13032335,  -1.7064632 ,  -5.8312701 ,   4.7409945 ,\n",
       "         -5.74782201,  -7.89401415,   3.22257016,  10.76161345,\n",
       "          0.07730925,   0.61625218,  -2.91182054,  -1.46632125,\n",
       "         -1.63524224,  -4.92924149,   3.12345515,   0.068778  ,\n",
       "          1.40131714,   2.41138204,   4.80805757,  -2.18380638,\n",
       "          0.9286504 ,   1.14854775,  -2.28565731,   1.32543965,\n",
       "          5.88863542,   2.08927397,  -0.26782081,  -0.78154619,\n",
       "         -2.05285124,   1.55131242,   1.15163686,  -1.09688906,\n",
       "          0.26995512,  -2.22408908]])"
      ]
     },
     "execution_count": 62,
     "metadata": {},
     "output_type": "execute_result"
    }
   ],
   "source": [
    "pca_image"
   ]
  },
  {
   "cell_type": "code",
   "execution_count": 65,
   "id": "alpha-blues",
   "metadata": {},
   "outputs": [],
   "source": [
    "filename = 'pca_model.sav'\n",
    "pickle.dump(pca_model, open(filename, 'wb'))"
   ]
  },
  {
   "cell_type": "code",
   "execution_count": 66,
   "id": "another-terrace",
   "metadata": {},
   "outputs": [],
   "source": [
    "filename = 'pca_scaler_model.sav'\n",
    "pickle.dump(pca_scaler_model, open(filename, 'wb'))"
   ]
  },
  {
   "cell_type": "code",
   "execution_count": null,
   "id": "intelligent-physiology",
   "metadata": {},
   "outputs": [],
   "source": []
  }
 ],
 "metadata": {
  "kernelspec": {
   "display_name": "Python 3",
   "language": "python",
   "name": "python3"
  },
  "language_info": {
   "codemirror_mode": {
    "name": "ipython",
    "version": 3
   },
   "file_extension": ".py",
   "mimetype": "text/x-python",
   "name": "python",
   "nbconvert_exporter": "python",
   "pygments_lexer": "ipython3",
   "version": "3.9.2"
  }
 },
 "nbformat": 4,
 "nbformat_minor": 5
}
