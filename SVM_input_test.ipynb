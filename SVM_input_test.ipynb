{
 "cells": [
  {
   "cell_type": "code",
   "execution_count": 1,
   "metadata": {},
   "outputs": [],
   "source": [
    "# Import your libraries\n",
    "import glob\n",
    "import cv2\n",
    "import os\n",
    "\n",
    "#For data management\n",
    "import pandas as pd\n",
    "import numpy as np\n",
    "from sklearn.preprocessing import StandardScaler\n",
    "\n",
    "\n",
    "#import classifiers\n",
    "from sklearn.svm import SVC\n",
    "from sklearn import svm\n",
    "\n",
    "#metrics contain our plot_confusion_matrix and classification_report\n",
    "from sklearn import metrics\n",
    "\n",
    "#helper function to splitting data\n",
    "from sklearn.model_selection import train_test_split, cross_val_score\n",
    "\n",
    "#for plotting\n",
    "import matplotlib.pyplot as plt\n",
    "%matplotlib inline\n",
    "\n",
    "\n",
    "#export model\n",
    "import pickle"
   ]
  },
  {
   "cell_type": "code",
   "execution_count": 18,
   "metadata": {},
   "outputs": [
    {
     "name": "stdout",
     "output_type": "stream",
     "text": [
      "[[[255 255 255]\n",
      "  [255 255 255]\n",
      "  [255 255 255]\n",
      "  ...\n",
      "  [255 255 255]\n",
      "  [255 255 255]\n",
      "  [255 255 255]]\n",
      "\n",
      " [[255 255 255]\n",
      "  [255 255 255]\n",
      "  [255 255 255]\n",
      "  ...\n",
      "  [255 255 255]\n",
      "  [255 255 255]\n",
      "  [255 255 255]]\n",
      "\n",
      " [[255 255 255]\n",
      "  [255 255 255]\n",
      "  [255 255 255]\n",
      "  ...\n",
      "  [255 255 255]\n",
      "  [255 255 255]\n",
      "  [255 255 255]]\n",
      "\n",
      " ...\n",
      "\n",
      " [[255 255 255]\n",
      "  [255 255 255]\n",
      "  [255 255 255]\n",
      "  ...\n",
      "  [255 255 255]\n",
      "  [255 255 255]\n",
      "  [255 255 255]]\n",
      "\n",
      " [[255 255 255]\n",
      "  [255 255 255]\n",
      "  [255 255 255]\n",
      "  ...\n",
      "  [255 255 255]\n",
      "  [255 255 255]\n",
      "  [255 255 255]]\n",
      "\n",
      " [[255 255 255]\n",
      "  [255 255 255]\n",
      "  [255 255 255]\n",
      "  ...\n",
      "  [255 255 255]\n",
      "  [255 255 255]\n",
      "  [255 255 255]]]\n"
     ]
    }
   ],
   "source": [
    "#image_test_path= \"F:\\\\DesktopFiles_Desktop\\\\CTP_DS_2021Spring\\\\Project\\\\FruitTree\\\\CTPSpring2021_DataScience_Proj\\\\fruits-360\\\\Test\\\\Banana Lady Finger\\\\33_100.jpg\"\n",
    "image_test_path= \"F:\\\\DesktopFiles_Desktop\\\\CTP_DS_2021Spring\\\\Project\\\\FruitTree\\\\CTPSpring2021_DataScience_Proj\\\\fruits-360\\\\Test\\\\Avocado\\\\4_100.jpg\"\n",
    "image = cv2.imread(image_test_path, cv2.IMREAD_COLOR)\n",
    "print(image)"
   ]
  },
  {
   "cell_type": "code",
   "execution_count": 19,
   "metadata": {},
   "outputs": [],
   "source": [
    "cv2.imshow('image',image)\n",
    "cv2.waitKey(0)\n",
    "cv2.destroyAllWindows()"
   ]
  },
  {
   "cell_type": "code",
   "execution_count": 20,
   "metadata": {},
   "outputs": [],
   "source": [
    "image = cv2.resize(image, (45, 45))\n",
    "cv2.imshow('image', image)\n",
    "cv2.waitKey(0)\n",
    "cv2.destroyAllWindows()"
   ]
  },
  {
   "cell_type": "code",
   "execution_count": 21,
   "metadata": {},
   "outputs": [],
   "source": [
    "# image = cv2.cvtColor(image, cv2.COLOR_RGB2BGR)\n",
    "# cv2.imshow('image', image)\n",
    "# cv2.waitKey(0)\n",
    "# cv2.destroyAllWindows()"
   ]
  },
  {
   "cell_type": "code",
   "execution_count": 22,
   "metadata": {},
   "outputs": [],
   "source": [
    "image = image.flatten()\n",
    "cv2.imshow('image', image)\n",
    "cv2.waitKey(0)\n",
    "cv2.destroyAllWindows()"
   ]
  },
  {
   "cell_type": "code",
   "execution_count": 23,
   "metadata": {},
   "outputs": [],
   "source": [
    "#path_to_SVM_fruitTree_classifer = 'flask_app/models/SVM_fruitTree.pkl'\n",
    "path_to_SVM_fruitTree_classifer = r\"F:\\DesktopFiles_Desktop\\CTP_DS_2021Spring\\Project\\FruitTree\\CTPSpring2021_DataScience_Proj\\flask_app\\models\\SVM_fruitTree_folder_train.pkl\"\n",
    "\n",
    "with open(path_to_SVM_fruitTree_classifer, 'rb') as f:\n",
    "    SVM_fruitTree_classifier = pickle.load(f)"
   ]
  },
  {
   "cell_type": "code",
   "execution_count": 24,
   "metadata": {},
   "outputs": [
    {
     "data": {
      "text/plain": [
       "17"
      ]
     },
     "execution_count": 24,
     "metadata": {},
     "output_type": "execute_result"
    }
   ],
   "source": [
    "predictions = SVM_fruitTree_classifier.predict([image])\n",
    "predictions[0]"
   ]
  },
  {
   "cell_type": "code",
   "execution_count": 25,
   "metadata": {},
   "outputs": [],
   "source": [
    "item_identifier_names = { 0: 'Apple Braeburn',\n",
    " 1: 'Apple Crimson Snow',\n",
    " 2: 'Apple Golden 1',\n",
    " 3: 'Apple Golden 2',\n",
    " 4: 'Apple Golden 3',\n",
    " 5: 'Apple Granny Smith',\n",
    " 6: 'Apple Pink Lady',\n",
    " 7: 'Apple Red 1',\n",
    " 8: 'Apple Red 2',\n",
    " 9: 'Apple Red 3',\n",
    " 10: 'Apple Red Delicious',\n",
    " 11: 'Apple Red Yellow 1',\n",
    " 12: 'Apple Red Yellow 2',\n",
    " 13: 'Apricot',\n",
    " 14: 'Avocado',\n",
    " 15: 'Avocado ripe',\n",
    " 16: 'Banana',\n",
    " 17: 'Banana Lady Finger',\n",
    " 18: 'Banana Red',\n",
    " 19: 'Beetroot',\n",
    " 20: 'Blueberry',\n",
    " 21: 'Cactus fruit',\n",
    " 22: 'Cantaloupe 1',\n",
    " 23: 'Cantaloupe 2',\n",
    " 24: 'Carambula',\n",
    " 25: 'Cauliflower',\n",
    " 26: 'Cherry 1',\n",
    " 27: 'Cherry 2',\n",
    " 28: 'Cherry Rainier',\n",
    " 29: 'Cherry Wax Black',\n",
    " 30: 'Cherry Wax Red',\n",
    " 31: 'Cherry Wax Yellow',\n",
    " 32: 'Chestnut',\n",
    " 33: 'Clementine',\n",
    " 34: 'Cocos',\n",
    " 35: 'Corn',\n",
    " 36: 'Corn Husk',\n",
    " 37: 'Cucumber Ripe',\n",
    " 38: 'Cucumber Ripe 2',\n",
    " 39: 'Dates',\n",
    " 40: 'Eggplant',\n",
    " 41: 'Fig',\n",
    " 42: 'Ginger Root',\n",
    " 43: 'Granadilla',\n",
    " 44: 'Grape Blue',\n",
    " 45: 'Grape Pink',\n",
    " 46: 'Grape White',\n",
    " 47: 'Grape White 2',\n",
    " 48: 'Grape White 3',\n",
    " 49: 'Grape White 4',\n",
    " 50: 'Grapefruit Pink',\n",
    " 51: 'Grapefruit White',\n",
    " 52: 'Guava',\n",
    " 53: 'Hazelnut',\n",
    " 54: 'Huckleberry',\n",
    " 55: 'Kaki',\n",
    " 56: 'Kiwi',\n",
    " 57: 'Kohlrabi',\n",
    " 58: 'Kumquats',\n",
    " 59: 'Lemon',\n",
    " 60: 'Lemon Meyer',\n",
    " 61: 'Limes',\n",
    " 62: 'Lychee',\n",
    " 63: 'Mandarine',\n",
    " 64: 'Mango',\n",
    " 65: 'Mango Red',\n",
    " 66: 'Mangostan',\n",
    " 67: 'Maracuja',\n",
    " 68: 'Melon Piel de Sapo',\n",
    " 69: 'Mulberry',\n",
    " 70: 'Nectarine',\n",
    " 71: 'Nectarine Flat',\n",
    " 72: 'Nut Forest',\n",
    " 73: 'Nut Pecan',\n",
    " 74: 'Onion Red',\n",
    " 75: 'Onion Red Peeled',\n",
    " 76: 'Onion White',\n",
    " 77: 'Orange',\n",
    " 78: 'Papaya',\n",
    " 79: 'Passion Fruit',\n",
    " 80: 'Peach',\n",
    " 81: 'Peach 2',\n",
    " 82: 'Peach Flat',\n",
    " 83: 'Pear',\n",
    " 84: 'Pear 2',\n",
    " 85: 'Pear Abate',\n",
    " 86: 'Pear Forelle',\n",
    " 87: 'Pear Kaiser',\n",
    " 88: 'Pear Monster',\n",
    " 89: 'Pear Red',\n",
    " 90: 'Pear Stone',\n",
    " 91: 'Pear Williams',\n",
    " 92: 'Pepino',\n",
    " 93: 'Pepper Green',\n",
    " 94: 'Pepper Orange',\n",
    " 95: 'Pepper Red',\n",
    " 96: 'Pepper Yellow',\n",
    " 97: 'Physalis',\n",
    " 98: 'Physalis with Husk',\n",
    " 99: 'Pineapple',\n",
    " 100: 'Pineapple Mini',\n",
    " 101: 'Pitahaya Red',\n",
    " 102: 'Plum',\n",
    " 103: 'Plum 2',\n",
    " 104: 'Plum 3',\n",
    " 105: 'Pomegranate',\n",
    " 106: 'Pomelo Sweetie',\n",
    " 107: 'Potato Red',\n",
    " 108: 'Potato Red Washed',\n",
    " 109: 'Potato Sweet',\n",
    " 110: 'Potato White',\n",
    " 111: 'Quince',\n",
    " 112: 'Rambutan',\n",
    " 113: 'Raspberry',\n",
    " 114: 'Redcurrant',\n",
    " 115: 'Salak',\n",
    " 116: 'Strawberry',\n",
    " 117: 'Strawberry Wedge',\n",
    " 118: 'Tamarillo',\n",
    " 119: 'Tangelo',\n",
    " 120: 'Tomato 1',\n",
    " 121: 'Tomato 2',\n",
    " 122: 'Tomato 3',\n",
    " 123: 'Tomato 4',\n",
    " 124: 'Tomato Cherry Red',\n",
    " 125: 'Tomato Heart',\n",
    " 126: 'Tomato Maroon',\n",
    " 127: 'Tomato Yellow',\n",
    " 128: 'Tomato not Ripened',\n",
    " 129: 'Walnut',\n",
    " 130: 'Watermelon'\n",
    "                                }\n",
    "prediction = item_identifier_names[predictions[0]] + \" \"+ str(predictions[0])"
   ]
  },
  {
   "cell_type": "code",
   "execution_count": 26,
   "metadata": {},
   "outputs": [
    {
     "data": {
      "text/plain": [
       "'Banana Lady Finger 17'"
      ]
     },
     "execution_count": 26,
     "metadata": {},
     "output_type": "execute_result"
    }
   ],
   "source": [
    "prediction"
   ]
  },
  {
   "cell_type": "code",
   "execution_count": null,
   "metadata": {},
   "outputs": [],
   "source": []
  }
 ],
 "metadata": {
  "kernelspec": {
   "display_name": "Python 3",
   "language": "python",
   "name": "python3"
  },
  "language_info": {
   "codemirror_mode": {
    "name": "ipython",
    "version": 3
   },
   "file_extension": ".py",
   "mimetype": "text/x-python",
   "name": "python",
   "nbconvert_exporter": "python",
   "pygments_lexer": "ipython3",
   "version": "3.8.5"
  }
 },
 "nbformat": 4,
 "nbformat_minor": 4
}
