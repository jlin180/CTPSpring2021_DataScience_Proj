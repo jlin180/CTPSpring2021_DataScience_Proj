{
 "cells": [
  {
   "cell_type": "code",
   "execution_count": 1,
   "metadata": {},
   "outputs": [],
   "source": [
    "# Import your libraries\n",
    "import glob\n",
    "import cv2\n",
    "import os\n",
    "\n",
    "#For data management\n",
    "import pandas as pd\n",
    "import numpy as np\n",
    "from sklearn.preprocessing import StandardScaler\n",
    "\n",
    "\n",
    "#import classifiers\n",
    "from sklearn.svm import SVC\n",
    "from sklearn import svm\n",
    "\n",
    "#metrics contain our plot_confusion_matrix and classification_report\n",
    "from sklearn import metrics\n",
    "\n",
    "#helper function to splitting data\n",
    "from sklearn.model_selection import train_test_split, cross_val_score\n",
    "\n",
    "#for plotting\n",
    "import matplotlib.pyplot as plt\n",
    "%matplotlib inline\n",
    "\n",
    "\n",
    "#export model\n",
    "import pickle"
   ]
  },
  {
   "cell_type": "code",
   "execution_count": 7,
   "metadata": {},
   "outputs": [],
   "source": [
    "def getFruitData(folder, k_fold = False):\n",
    "    fruit_images = []\n",
    "    labels = [] \n",
    "    \n",
    "    if not k_fold:\n",
    "    #Retrieve images from the folders -- fruit labels are the name of the image file\n",
    "        path = \"./fruits-360/\"+ folder +\"/*\"\n",
    "        for fruit_dir_path in glob.glob(path):\n",
    "            #for windows, to extract the fruit label from image file name\n",
    "            fruit_label = fruit_dir_path.split(\"\\\\\")[-1]\n",
    "\n",
    "\n",
    "            for image_path in glob.glob(os.path.join(fruit_dir_path, \"*.jpg\")):\n",
    "\n",
    "\n",
    "                #read image\n",
    "                image = cv2.imread(image_path, cv2.IMREAD_COLOR)\n",
    "\n",
    "\n",
    "                #resizing image to be 45x45\n",
    "                image = cv2.resize(image, (45, 45))\n",
    "\n",
    "                #convert color space\n",
    "                image = cv2.cvtColor(image, cv2.COLOR_RGB2BGR)\n",
    "\n",
    "                #append the image of fruit to the fruit array\n",
    "                fruit_images.append(image)\n",
    "                #append the name of the fruit\n",
    "                labels.append(fruit_label)\n",
    "\n",
    "\n",
    "        fruit_images = np.array(fruit_images)\n",
    "        labels = np.array(labels)\n",
    "        \n",
    "        #creating a dictionary of fruit labels to their corresponding number (ID)\n",
    "        label_to_id_dict = {v:i for i,v in enumerate(np.unique(labels))}\n",
    "\n",
    "        #creating a dictionary of numbers (ID) to their corresponding for labels\n",
    "        id_to_label_dict = {v:k for k, v in label_to_id_dict.items()}\n",
    "\n",
    "        #turn our dataset of current labels into their corresponding ID numbers\n",
    "        labelIDs = np.array([label_to_id_dict[x] for x in labels])\n",
    "        \n",
    "        return fruit_images, labelIDs, id_to_label_dict\n",
    "    else:\n",
    "        folder_names = ['Training', 'Test']\n",
    "        for folders in folder_names:\n",
    "            path = \"./fruits-360/\"+ folders +\"/*\"\n",
    "            for fruit_dir_path in glob.glob(path):\n",
    "                #for windows, to extract the fruit label from image file name\n",
    "                fruit_label = fruit_dir_path.split(\"\\\\\")[-1]\n",
    "\n",
    "\n",
    "                for image_path in glob.glob(os.path.join(fruit_dir_path, \"*.jpg\")):\n",
    "\n",
    "\n",
    "                    #read image\n",
    "                    image = cv2.imread(image_path, cv2.IMREAD_COLOR)\n",
    "\n",
    "\n",
    "                    #resizing image to be 45x45\n",
    "                    image = cv2.resize(image, (45, 45))\n",
    "\n",
    "                    #convert color space\n",
    "                    image = cv2.cvtColor(image, cv2.COLOR_RGB2BGR)\n",
    "\n",
    "                    #append the image of fruit to the fruit array\n",
    "                    fruit_images.append(image)\n",
    "                    #append the name of the fruit\n",
    "                    labels.append(fruit_label)\n",
    "\n",
    "\n",
    "        fruit_images = np.array(fruit_images)\n",
    "        labels = np.array(labels)\n",
    "        #creating a dictionary of fruit labels to their corresponding number (ID)\n",
    "        label_to_id_dict = {v:i for i,v in enumerate(np.unique(labels))}\n",
    "\n",
    "        #creating a dictionary of numbers (ID) to their corresponding for labels\n",
    "        id_to_label_dict = {v:k for k, v in label_to_id_dict.items()}\n",
    "\n",
    "        #turn our dataset of current labels into their corresponding ID numbers\n",
    "        labelIDs = np.array([label_to_id_dict[x] for x in labels])\n",
    "        \n",
    "        return fruit_images, labelIDs, id_to_label_dict\n"
   ]
  },
  {
   "cell_type": "code",
   "execution_count": 9,
   "metadata": {},
   "outputs": [],
   "source": [
    "X_train, y_train, y_train_id_to_label = getFruitData('Training', k_fold=False)\n",
    "X_test, y_test, y_test_id_to_label = getFruitData('Test', k_fold=False)\n",
    "\n",
    "X, y, y_id_to_label = getFruitData('',k_fold=True)"
   ]
  },
  {
   "cell_type": "code",
   "execution_count": 10,
   "metadata": {},
   "outputs": [],
   "source": [
    "X_train_scaled = StandardScaler().fit_transform([i.flatten() for i in X_train])\n",
    "X_test_scaled = StandardScaler().fit_transform([i.flatten() for i in X_test])\n",
    "\n",
    "X_scaled = StandardScaler().fit_transform([i.flatten() for i in X])\n"
   ]
  },
  {
   "cell_type": "code",
   "execution_count": null,
   "metadata": {},
   "outputs": [],
   "source": [
    "#initialize our model\n",
    "model = svm.SVC()\n",
    "\n",
    "#fit our model\n",
    "model.fit(X_train_scaled, y_train)"
   ]
  },
  {
   "cell_type": "code",
   "execution_count": null,
   "metadata": {},
   "outputs": [],
   "source": [
    "#accuracy of predictions using our test data\n",
    "accuracy = model.score(X_test_scaled, y_test)\n",
    "\n",
    "\n",
    "print(\"Accuracy %f\" % accuracy)"
   ]
  },
  {
   "cell_type": "code",
   "execution_count": null,
   "metadata": {},
   "outputs": [],
   "source": [
    "#make new predictions using our test data\n",
    "y_pred = model.predict(X_test_scaled)\n",
    "y_pred"
   ]
  },
  {
   "cell_type": "code",
   "execution_count": null,
   "metadata": {},
   "outputs": [],
   "source": [
    "#print classification report\n",
    "print(metrics.classification_report(y_true = y_test, y_pred = y_pred))"
   ]
  },
  {
   "cell_type": "code",
   "execution_count": null,
   "metadata": {},
   "outputs": [],
   "source": [
    "# pred_kfold = cross_val_score(model, images_scaled, labelIDs, cv=5) \n",
    "# print(\"Accuracy with SVM and K-FOLD CROSS VALIDATION: %0.2f (+/- %0.2f)\" % (pred_kfold.mean(), pred_kfold.std() * 2))"
   ]
  }
 ],
 "metadata": {
  "kernelspec": {
   "display_name": "Python 3",
   "language": "python",
   "name": "python3"
  },
  "language_info": {
   "codemirror_mode": {
    "name": "ipython",
    "version": 3
   },
   "file_extension": ".py",
   "mimetype": "text/x-python",
   "name": "python",
   "nbconvert_exporter": "python",
   "pygments_lexer": "ipython3",
   "version": "3.8.5"
  }
 },
 "nbformat": 4,
 "nbformat_minor": 4
}
