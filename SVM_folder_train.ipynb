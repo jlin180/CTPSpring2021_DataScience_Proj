{
 "cells": [
  {
   "cell_type": "code",
   "execution_count": 23,
   "metadata": {},
   "outputs": [],
   "source": [
    "# Import your libraries\n",
    "import glob\n",
    "import cv2\n",
    "import os\n",
    "\n",
    "#For data management\n",
    "import pandas as pd\n",
    "import numpy as np\n",
    "from sklearn.preprocessing import StandardScaler\n",
    "\n",
    "\n",
    "#import classifiers\n",
    "from sklearn.svm import SVC\n",
    "from sklearn import svm\n",
    "\n",
    "#metrics contain our plot_confusion_matrix and classification_report\n",
    "from sklearn import metrics\n",
    "\n",
    "#helper function to splitting data\n",
    "from sklearn.model_selection import train_test_split, cross_val_score, KFold\n",
    "\n",
    "#for plotting\n",
    "import matplotlib.pyplot as plt\n",
    "%matplotlib inline\n",
    "\n",
    "\n",
    "#export model\n",
    "import pickle"
   ]
  },
  {
   "cell_type": "code",
   "execution_count": 7,
   "metadata": {},
   "outputs": [],
   "source": [
    "def getFruitData(folder, k_fold = False):\n",
    "    fruit_images = []\n",
    "    labels = [] \n",
    "    \n",
    "    if not k_fold:\n",
    "    #Retrieve images from the folders -- fruit labels are the name of the image file\n",
    "        path = \"./fruits-360/\"+ folder +\"/*\"\n",
    "        for fruit_dir_path in glob.glob(path):\n",
    "            #for windows, to extract the fruit label from image file name\n",
    "            fruit_label = fruit_dir_path.split(\"\\\\\")[-1]\n",
    "\n",
    "\n",
    "            for image_path in glob.glob(os.path.join(fruit_dir_path, \"*.jpg\")):\n",
    "\n",
    "\n",
    "                #read image\n",
    "                image = cv2.imread(image_path, cv2.IMREAD_COLOR)\n",
    "\n",
    "\n",
    "                #resizing image to be 45x45\n",
    "                image = cv2.resize(image, (45, 45))\n",
    "\n",
    "                #convert color space\n",
    "                image = cv2.cvtColor(image, cv2.COLOR_RGB2BGR)\n",
    "\n",
    "                #append the image of fruit to the fruit array\n",
    "                fruit_images.append(image)\n",
    "                #append the name of the fruit\n",
    "                labels.append(fruit_label)\n",
    "\n",
    "\n",
    "        fruit_images = np.array(fruit_images)\n",
    "        labels = np.array(labels)\n",
    "        \n",
    "        #creating a dictionary of fruit labels to their corresponding number (ID)\n",
    "        label_to_id_dict = {v:i for i,v in enumerate(np.unique(labels))}\n",
    "\n",
    "        #creating a dictionary of numbers (ID) to their corresponding for labels\n",
    "        id_to_label_dict = {v:k for k, v in label_to_id_dict.items()}\n",
    "\n",
    "        #turn our dataset of current labels into their corresponding ID numbers\n",
    "        labelIDs = np.array([label_to_id_dict[x] for x in labels])\n",
    "        \n",
    "        return fruit_images, labelIDs, id_to_label_dict\n",
    "    else:\n",
    "        folder_names = ['Training', 'Test']\n",
    "        for folders in folder_names:\n",
    "            path = \"./fruits-360/\"+ folders +\"/*\"\n",
    "            for fruit_dir_path in glob.glob(path):\n",
    "                #for windows, to extract the fruit label from image file name\n",
    "                fruit_label = fruit_dir_path.split(\"\\\\\")[-1]\n",
    "\n",
    "\n",
    "                for image_path in glob.glob(os.path.join(fruit_dir_path, \"*.jpg\")):\n",
    "\n",
    "\n",
    "                    #read image\n",
    "                    image = cv2.imread(image_path, cv2.IMREAD_COLOR)\n",
    "\n",
    "\n",
    "                    #resizing image to be 45x45\n",
    "                    image = cv2.resize(image, (45, 45))\n",
    "\n",
    "                    #convert color space\n",
    "                    image = cv2.cvtColor(image, cv2.COLOR_RGB2BGR)\n",
    "\n",
    "                    #append the image of fruit to the fruit array\n",
    "                    fruit_images.append(image)\n",
    "                    #append the name of the fruit\n",
    "                    labels.append(fruit_label)\n",
    "\n",
    "\n",
    "        fruit_images = np.array(fruit_images)\n",
    "        labels = np.array(labels)\n",
    "        #creating a dictionary of fruit labels to their corresponding number (ID)\n",
    "        label_to_id_dict = {v:i for i,v in enumerate(np.unique(labels))}\n",
    "\n",
    "        #creating a dictionary of numbers (ID) to their corresponding for labels\n",
    "        id_to_label_dict = {v:k for k, v in label_to_id_dict.items()}\n",
    "\n",
    "        #turn our dataset of current labels into their corresponding ID numbers\n",
    "        labelIDs = np.array([label_to_id_dict[x] for x in labels])\n",
    "        \n",
    "        return fruit_images, labelIDs, id_to_label_dict\n"
   ]
  },
  {
   "cell_type": "code",
   "execution_count": 9,
   "metadata": {},
   "outputs": [],
   "source": [
    "X_train, y_train, y_train_id_to_label = getFruitData('Training', k_fold=False)\n",
    "X_test, y_test, y_test_id_to_label = getFruitData('Test', k_fold=False)\n",
    "\n",
    "X, y, y_id_to_label = getFruitData('',k_fold=True)"
   ]
  },
  {
   "cell_type": "code",
   "execution_count": 10,
   "metadata": {},
   "outputs": [],
   "source": [
    "X_train_scaled = StandardScaler().fit_transform([i.flatten() for i in X_train])\n",
    "X_test_scaled = StandardScaler().fit_transform([i.flatten() for i in X_test])\n",
    "\n",
    "X_scaled = StandardScaler().fit_transform([i.flatten() for i in X])\n"
   ]
  },
  {
   "cell_type": "code",
   "execution_count": 16,
   "metadata": {},
   "outputs": [
    {
     "data": {
      "text/plain": [
       "SVC()"
      ]
     },
     "execution_count": 16,
     "metadata": {},
     "output_type": "execute_result"
    }
   ],
   "source": [
    "#initialize our model\n",
    "model = svm.SVC()\n",
    "\n",
    "#fit our model\n",
    "model.fit(X_train_scaled, y_train)"
   ]
  },
  {
   "cell_type": "code",
   "execution_count": 17,
   "metadata": {},
   "outputs": [
    {
     "name": "stdout",
     "output_type": "stream",
     "text": [
      "Accuracy 0.944244\n"
     ]
    }
   ],
   "source": [
    "#accuracy of predictions using our test data\n",
    "accuracy = model.score(X_test_scaled, y_test)\n",
    "\n",
    "\n",
    "print(\"Accuracy %f\" % accuracy)"
   ]
  },
  {
   "cell_type": "code",
   "execution_count": 18,
   "metadata": {},
   "outputs": [
    {
     "data": {
      "text/plain": [
       "array([  0,   0,   0, ..., 130, 130, 130])"
      ]
     },
     "execution_count": 18,
     "metadata": {},
     "output_type": "execute_result"
    }
   ],
   "source": [
    "#make new predictions using our test data\n",
    "y_pred = model.predict(X_test_scaled)\n",
    "y_pred"
   ]
  },
  {
   "cell_type": "code",
   "execution_count": 19,
   "metadata": {},
   "outputs": [
    {
     "name": "stdout",
     "output_type": "stream",
     "text": [
      "              precision    recall  f1-score   support\n",
      "\n",
      "           0       0.97      0.73      0.83       164\n",
      "           1       0.96      1.00      0.98       148\n",
      "           2       0.97      0.97      0.97       160\n",
      "           3       1.00      1.00      1.00       164\n",
      "           4       0.79      1.00      0.88       161\n",
      "           5       0.99      0.99      0.99       164\n",
      "           6       1.00      0.91      0.96       152\n",
      "           7       0.99      0.97      0.98       164\n",
      "           8       0.92      0.98      0.95       164\n",
      "           9       0.96      1.00      0.98       144\n",
      "          10       0.98      1.00      0.99       166\n",
      "          11       0.99      0.98      0.99       164\n",
      "          12       1.00      1.00      1.00       219\n",
      "          13       0.92      1.00      0.96       164\n",
      "          14       0.92      1.00      0.96       143\n",
      "          15       0.93      1.00      0.96       166\n",
      "          16       0.80      0.69      0.74       166\n",
      "          17       0.48      1.00      0.65       152\n",
      "          18       0.88      0.81      0.84       166\n",
      "          19       0.67      0.82      0.74       150\n",
      "          20       1.00      0.87      0.93       154\n",
      "          21       0.87      0.90      0.89       166\n",
      "          22       1.00      1.00      1.00       164\n",
      "          23       1.00      0.99      1.00       164\n",
      "          24       1.00      0.98      0.99       166\n",
      "          25       0.93      0.98      0.96       234\n",
      "          26       0.87      1.00      0.93       164\n",
      "          27       0.98      1.00      0.99       246\n",
      "          28       1.00      0.89      0.94       246\n",
      "          29       1.00      1.00      1.00       164\n",
      "          30       0.95      1.00      0.98       164\n",
      "          31       1.00      1.00      1.00       164\n",
      "          32       0.99      0.89      0.93       153\n",
      "          33       1.00      1.00      1.00       166\n",
      "          34       1.00      0.93      0.96       166\n",
      "          35       0.88      0.48      0.62       150\n",
      "          36       1.00      0.64      0.78       154\n",
      "          37       0.78      0.64      0.70       130\n",
      "          38       1.00      0.90      0.95       156\n",
      "          39       1.00      1.00      1.00       166\n",
      "          40       0.99      0.67      0.80       156\n",
      "          41       1.00      1.00      1.00       234\n",
      "          42       1.00      0.75      0.86        99\n",
      "          43       1.00      1.00      1.00       166\n",
      "          44       0.94      1.00      0.97       328\n",
      "          45       1.00      0.95      0.97       164\n",
      "          46       1.00      1.00      1.00       166\n",
      "          47       1.00      1.00      1.00       166\n",
      "          48       1.00      0.98      0.99       164\n",
      "          49       1.00      1.00      1.00       158\n",
      "          50       1.00      1.00      1.00       166\n",
      "          51       1.00      1.00      1.00       164\n",
      "          52       1.00      1.00      1.00       166\n",
      "          53       0.91      1.00      0.95       157\n",
      "          54       1.00      1.00      1.00       166\n",
      "          55       1.00      1.00      1.00       166\n",
      "          56       0.98      1.00      0.99       156\n",
      "          57       0.99      1.00      1.00       157\n",
      "          58       1.00      1.00      1.00       166\n",
      "          59       1.00      1.00      1.00       164\n",
      "          60       1.00      1.00      1.00       166\n",
      "          61       1.00      1.00      1.00       166\n",
      "          62       1.00      1.00      1.00       166\n",
      "          63       1.00      0.87      0.93       166\n",
      "          64       1.00      1.00      1.00       166\n",
      "          65       1.00      0.89      0.94       142\n",
      "          66       0.96      1.00      0.98       102\n",
      "          67       0.98      0.98      0.98       166\n",
      "          68       1.00      1.00      1.00       246\n",
      "          69       0.97      1.00      0.98       164\n",
      "          70       0.80      0.79      0.79       164\n",
      "          71       1.00      1.00      1.00       160\n",
      "          72       1.00      0.93      0.96       218\n",
      "          73       1.00      0.98      0.99       178\n",
      "          74       0.73      0.88      0.80       150\n",
      "          75       1.00      0.71      0.83       155\n",
      "          76       0.57      0.88      0.69       146\n",
      "          77       1.00      1.00      1.00       160\n",
      "          78       1.00      1.00      1.00       164\n",
      "          79       1.00      1.00      1.00       166\n",
      "          80       0.94      0.99      0.96       164\n",
      "          81       0.89      1.00      0.94       246\n",
      "          82       0.92      0.91      0.92       164\n",
      "          83       0.98      0.73      0.84       164\n",
      "          84       0.72      0.49      0.58       232\n",
      "          85       0.86      0.84      0.85       166\n",
      "          86       1.00      1.00      1.00       234\n",
      "          87       0.99      0.85      0.92       102\n",
      "          88       0.97      0.84      0.90       166\n",
      "          89       1.00      0.97      0.98       222\n",
      "          90       0.95      0.95      0.95       237\n",
      "          91       0.94      1.00      0.97       166\n",
      "          92       0.99      1.00      1.00       166\n",
      "          93       0.97      1.00      0.99       148\n",
      "          94       0.98      0.95      0.96       234\n",
      "          95       0.97      0.92      0.94       222\n",
      "          96       0.96      0.91      0.94       222\n",
      "          97       1.00      1.00      1.00       164\n",
      "          98       0.85      1.00      0.92       164\n",
      "          99       0.98      0.99      0.98       166\n",
      "         100       1.00      1.00      1.00       163\n",
      "         101       0.98      1.00      0.99       166\n",
      "         102       1.00      0.84      0.91       151\n",
      "         103       1.00      1.00      1.00       142\n",
      "         104       0.93      1.00      0.96       304\n",
      "         105       1.00      0.98      0.99       164\n",
      "         106       1.00      1.00      1.00       153\n",
      "         107       0.73      0.78      0.75       150\n",
      "         108       1.00      0.84      0.91       151\n",
      "         109       0.87      0.51      0.64       150\n",
      "         110       0.80      0.95      0.87       150\n",
      "         111       1.00      1.00      1.00       166\n",
      "         112       0.89      1.00      0.94       164\n",
      "         113       1.00      0.98      0.99       166\n",
      "         114       1.00      0.93      0.97       164\n",
      "         115       1.00      1.00      1.00       162\n",
      "         116       0.76      0.98      0.86       164\n",
      "         117       0.93      0.99      0.96       246\n",
      "         118       0.87      1.00      0.93       166\n",
      "         119       0.88      1.00      0.94       166\n",
      "         120       1.00      1.00      1.00       246\n",
      "         121       1.00      1.00      1.00       225\n",
      "         122       1.00      1.00      1.00       246\n",
      "         123       1.00      1.00      1.00       160\n",
      "         124       1.00      1.00      1.00       164\n",
      "         125       1.00      0.99      0.99       228\n",
      "         126       1.00      1.00      1.00       127\n",
      "         127       1.00      1.00      1.00       153\n",
      "         128       1.00      0.95      0.97       158\n",
      "         129       0.81      1.00      0.90       249\n",
      "         130       1.00      0.99      0.99       157\n",
      "\n",
      "    accuracy                           0.94     22688\n",
      "   macro avg       0.95      0.94      0.94     22688\n",
      "weighted avg       0.95      0.94      0.94     22688\n",
      "\n"
     ]
    }
   ],
   "source": [
    "#print classification report\n",
    "print(metrics.classification_report(y_true = y_test, y_pred = y_pred))"
   ]
  },
  {
   "cell_type": "code",
   "execution_count": 22,
   "metadata": {},
   "outputs": [
    {
     "name": "stdout",
     "output_type": "stream",
     "text": [
      "Accuracy with SVM and K-FOLD CROSS VALIDATION: 0.93 (+/- 0.05)\n"
     ]
    }
   ],
   "source": [
    "pred_kfold = cross_val_score(model, X_scaled, y, cv=5) \n",
    "print(\"Accuracy with SVM and K-FOLD CROSS VALIDATION: %0.2f (+/- %0.2f)\" % (pred_kfold.mean(), pred_kfold.std() * 2))"
   ]
  },
  {
   "cell_type": "code",
   "execution_count": 25,
   "metadata": {},
   "outputs": [
    {
     "data": {
      "text/plain": [
       "array([0.93200929, 0.94169064, 0.87447444, 0.93720956, 0.94567382])"
      ]
     },
     "execution_count": 25,
     "metadata": {},
     "output_type": "execute_result"
    }
   ],
   "source": [
    "pred_kfold"
   ]
  },
  {
   "cell_type": "code",
   "execution_count": 27,
   "metadata": {},
   "outputs": [
    {
     "name": "stdout",
     "output_type": "stream",
     "text": [
      "Accuracy with SVM and K-FOLD CROSS VALIDATION SHUFFLED: 0.93 (+/- 0.05)\n"
     ]
    }
   ],
   "source": [
    "kf = KFold(shuffle=True, n_splits=5)\n",
    "pred_kfold_shuffle = cross_val_score(model, X_scaled, y, cv=kf) \n"
   ]
  },
  {
   "cell_type": "code",
   "execution_count": 30,
   "metadata": {},
   "outputs": [
    {
     "name": "stdout",
     "output_type": "stream",
     "text": [
      "Accuracy with SVM and K-FOLD CROSS VALIDATION SHUFFLED: 1.00 (+/- 0.00)\n"
     ]
    }
   ],
   "source": [
    "print(\"Accuracy with SVM and K-FOLD CROSS VALIDATION SHUFFLED: %0.2f (+/- %0.2f)\" % (pred_kfold_shuffle.mean(), pred_kfold_shuffle.std() * 2))"
   ]
  },
  {
   "cell_type": "code",
   "execution_count": 28,
   "metadata": {},
   "outputs": [
    {
     "data": {
      "text/plain": [
       "array([0.99817437, 0.99839566, 0.99839566, 0.99800841, 0.99872759])"
      ]
     },
     "execution_count": 28,
     "metadata": {},
     "output_type": "execute_result"
    }
   ],
   "source": [
    "pred_kfold_shuffle"
   ]
  },
  {
   "cell_type": "code",
   "execution_count": 29,
   "metadata": {},
   "outputs": [],
   "source": [
    "path = r\"F:\\DesktopFiles_Desktop\\CTP_DS_2021Spring\\Project\\FruitTree\\CTPSpring2021_DataScience_Proj\\flask_app\\models\\SVM_fruitTree_folder_train.pkl\"\n",
    "# filename = 'SVM_fruitTree_folder_train.pkl'\n",
    "pickle.dump(model, open(path, 'wb'))"
   ]
  },
  {
   "cell_type": "code",
   "execution_count": null,
   "metadata": {},
   "outputs": [],
   "source": []
  }
 ],
 "metadata": {
  "kernelspec": {
   "display_name": "Python 3",
   "language": "python",
   "name": "python3"
  },
  "language_info": {
   "codemirror_mode": {
    "name": "ipython",
    "version": 3
   },
   "file_extension": ".py",
   "mimetype": "text/x-python",
   "name": "python",
   "nbconvert_exporter": "python",
   "pygments_lexer": "ipython3",
   "version": "3.8.5"
  }
 },
 "nbformat": 4,
 "nbformat_minor": 4
}
